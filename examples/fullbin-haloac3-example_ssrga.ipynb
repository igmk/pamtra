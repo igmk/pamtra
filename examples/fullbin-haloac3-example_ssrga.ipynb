{
 "cells": [
  {
   "cell_type": "markdown",
   "metadata": {},
   "source": [
    "# PAMTRA: riming dependent parameterization using SSRGA \n",
    "## Full-bin interface example with HALO-(AC)³ data\n",
    "\n",
    "Here, we show how the riming dependet parameterization from Maherndl et al.(2023a, in revision) can be used in PAMTRA to simulate radar spectra of rimed ice particles. We use measured, binned particle size distributions. This is not only applicable to in situ measurements, but also to atmospheric models with full bin microphysics.\n",
    "\n",
    "The script requires `haloac3_dataset_for_pamtra.nc` from the [example_data](\"https://uni-koeln.sciebo.de/s/28700CuFssmin8q\"). "
   ]
  },
  {
   "cell_type": "markdown",
   "metadata": {},
   "source": [
    "Start with importing the required libraries and setting up the Notebook to show plots inline."
   ]
  },
  {
   "cell_type": "code",
   "execution_count": 1,
   "metadata": {},
   "outputs": [
    {
     "name": "stderr",
     "output_type": "stream",
     "text": [
      "/home/nmaherndl/lib/python/pyPamtra/meteoSI.py:19: Warning: numexpr not available\n",
      "  warnings.warn(\"numexpr not available\", Warning)\n",
      "/home/nmaherndl/lib/python/pyPamtra/importer.py:26: Warning: numexpr not available\n",
      "  warnings.warn(\"numexpr not available\", Warning)\n"
     ]
    }
   ],
   "source": [
    "import numpy as np\n",
    "import matplotlib.pyplot as plt\n",
    "import xarray as xr\n",
    "\n",
    "import pyPamtra\n",
    "\n",
    "%matplotlib inline"
   ]
  },
  {
   "cell_type": "markdown",
   "metadata": {},
   "source": [
    "Open the HALO-(AC)³ example data set (link). To keep file size small, the file contains only observations of a single cloud. See Mech et al. (2022, https://www.nature.com/articles/s41597-022-01900-7), Moser et al. (2023, https://acp.copernicus.org/preprints/acp-2023-44/) and Maherndl et al. (2023b, submitted) for details of the processing. "
   ]
  },
  {
   "cell_type": "code",
   "execution_count": 2,
   "metadata": {},
   "outputs": [],
   "source": [
    "data = xr.load_dataset('haloac3_dataset_for_pamtra.nc')"
   ]
  },
  {
   "cell_type": "code",
   "execution_count": 3,
   "metadata": {},
   "outputs": [
    {
     "data": {
      "text/html": [
       "<div><svg style=\"position: absolute; width: 0; height: 0; overflow: hidden\">\n",
       "<defs>\n",
       "<symbol id=\"icon-database\" viewBox=\"0 0 32 32\">\n",
       "<path d=\"M16 0c-8.837 0-16 2.239-16 5v4c0 2.761 7.163 5 16 5s16-2.239 16-5v-4c0-2.761-7.163-5-16-5z\"></path>\n",
       "<path d=\"M16 17c-8.837 0-16-2.239-16-5v6c0 2.761 7.163 5 16 5s16-2.239 16-5v-6c0 2.761-7.163 5-16 5z\"></path>\n",
       "<path d=\"M16 26c-8.837 0-16-2.239-16-5v6c0 2.761 7.163 5 16 5s16-2.239 16-5v-6c0 2.761-7.163 5-16 5z\"></path>\n",
       "</symbol>\n",
       "<symbol id=\"icon-file-text2\" viewBox=\"0 0 32 32\">\n",
       "<path d=\"M28.681 7.159c-0.694-0.947-1.662-2.053-2.724-3.116s-2.169-2.030-3.116-2.724c-1.612-1.182-2.393-1.319-2.841-1.319h-15.5c-1.378 0-2.5 1.121-2.5 2.5v27c0 1.378 1.122 2.5 2.5 2.5h23c1.378 0 2.5-1.122 2.5-2.5v-19.5c0-0.448-0.137-1.23-1.319-2.841zM24.543 5.457c0.959 0.959 1.712 1.825 2.268 2.543h-4.811v-4.811c0.718 0.556 1.584 1.309 2.543 2.268zM28 29.5c0 0.271-0.229 0.5-0.5 0.5h-23c-0.271 0-0.5-0.229-0.5-0.5v-27c0-0.271 0.229-0.5 0.5-0.5 0 0 15.499-0 15.5 0v7c0 0.552 0.448 1 1 1h7v19.5z\"></path>\n",
       "<path d=\"M23 26h-14c-0.552 0-1-0.448-1-1s0.448-1 1-1h14c0.552 0 1 0.448 1 1s-0.448 1-1 1z\"></path>\n",
       "<path d=\"M23 22h-14c-0.552 0-1-0.448-1-1s0.448-1 1-1h14c0.552 0 1 0.448 1 1s-0.448 1-1 1z\"></path>\n",
       "<path d=\"M23 18h-14c-0.552 0-1-0.448-1-1s0.448-1 1-1h14c0.552 0 1 0.448 1 1s-0.448 1-1 1z\"></path>\n",
       "</symbol>\n",
       "</defs>\n",
       "</svg>\n",
       "<style>/* CSS stylesheet for displaying xarray objects in jupyterlab.\n",
       " *\n",
       " */\n",
       "\n",
       ":root {\n",
       "  --xr-font-color0: var(--jp-content-font-color0, rgba(0, 0, 0, 1));\n",
       "  --xr-font-color2: var(--jp-content-font-color2, rgba(0, 0, 0, 0.54));\n",
       "  --xr-font-color3: var(--jp-content-font-color3, rgba(0, 0, 0, 0.38));\n",
       "  --xr-border-color: var(--jp-border-color2, #e0e0e0);\n",
       "  --xr-disabled-color: var(--jp-layout-color3, #bdbdbd);\n",
       "  --xr-background-color: var(--jp-layout-color0, white);\n",
       "  --xr-background-color-row-even: var(--jp-layout-color1, white);\n",
       "  --xr-background-color-row-odd: var(--jp-layout-color2, #eeeeee);\n",
       "}\n",
       "\n",
       "html[theme=dark],\n",
       "body.vscode-dark {\n",
       "  --xr-font-color0: rgba(255, 255, 255, 1);\n",
       "  --xr-font-color2: rgba(255, 255, 255, 0.54);\n",
       "  --xr-font-color3: rgba(255, 255, 255, 0.38);\n",
       "  --xr-border-color: #1F1F1F;\n",
       "  --xr-disabled-color: #515151;\n",
       "  --xr-background-color: #111111;\n",
       "  --xr-background-color-row-even: #111111;\n",
       "  --xr-background-color-row-odd: #313131;\n",
       "}\n",
       "\n",
       ".xr-wrap {\n",
       "  display: block;\n",
       "  min-width: 300px;\n",
       "  max-width: 700px;\n",
       "}\n",
       "\n",
       ".xr-text-repr-fallback {\n",
       "  /* fallback to plain text repr when CSS is not injected (untrusted notebook) */\n",
       "  display: none;\n",
       "}\n",
       "\n",
       ".xr-header {\n",
       "  padding-top: 6px;\n",
       "  padding-bottom: 6px;\n",
       "  margin-bottom: 4px;\n",
       "  border-bottom: solid 1px var(--xr-border-color);\n",
       "}\n",
       "\n",
       ".xr-header > div,\n",
       ".xr-header > ul {\n",
       "  display: inline;\n",
       "  margin-top: 0;\n",
       "  margin-bottom: 0;\n",
       "}\n",
       "\n",
       ".xr-obj-type,\n",
       ".xr-array-name {\n",
       "  margin-left: 2px;\n",
       "  margin-right: 10px;\n",
       "}\n",
       "\n",
       ".xr-obj-type {\n",
       "  color: var(--xr-font-color2);\n",
       "}\n",
       "\n",
       ".xr-sections {\n",
       "  padding-left: 0 !important;\n",
       "  display: grid;\n",
       "  grid-template-columns: 150px auto auto 1fr 20px 20px;\n",
       "}\n",
       "\n",
       ".xr-section-item {\n",
       "  display: contents;\n",
       "}\n",
       "\n",
       ".xr-section-item input {\n",
       "  display: none;\n",
       "}\n",
       "\n",
       ".xr-section-item input + label {\n",
       "  color: var(--xr-disabled-color);\n",
       "}\n",
       "\n",
       ".xr-section-item input:enabled + label {\n",
       "  cursor: pointer;\n",
       "  color: var(--xr-font-color2);\n",
       "}\n",
       "\n",
       ".xr-section-item input:enabled + label:hover {\n",
       "  color: var(--xr-font-color0);\n",
       "}\n",
       "\n",
       ".xr-section-summary {\n",
       "  grid-column: 1;\n",
       "  color: var(--xr-font-color2);\n",
       "  font-weight: 500;\n",
       "}\n",
       "\n",
       ".xr-section-summary > span {\n",
       "  display: inline-block;\n",
       "  padding-left: 0.5em;\n",
       "}\n",
       "\n",
       ".xr-section-summary-in:disabled + label {\n",
       "  color: var(--xr-font-color2);\n",
       "}\n",
       "\n",
       ".xr-section-summary-in + label:before {\n",
       "  display: inline-block;\n",
       "  content: '►';\n",
       "  font-size: 11px;\n",
       "  width: 15px;\n",
       "  text-align: center;\n",
       "}\n",
       "\n",
       ".xr-section-summary-in:disabled + label:before {\n",
       "  color: var(--xr-disabled-color);\n",
       "}\n",
       "\n",
       ".xr-section-summary-in:checked + label:before {\n",
       "  content: '▼';\n",
       "}\n",
       "\n",
       ".xr-section-summary-in:checked + label > span {\n",
       "  display: none;\n",
       "}\n",
       "\n",
       ".xr-section-summary,\n",
       ".xr-section-inline-details {\n",
       "  padding-top: 4px;\n",
       "  padding-bottom: 4px;\n",
       "}\n",
       "\n",
       ".xr-section-inline-details {\n",
       "  grid-column: 2 / -1;\n",
       "}\n",
       "\n",
       ".xr-section-details {\n",
       "  display: none;\n",
       "  grid-column: 1 / -1;\n",
       "  margin-bottom: 5px;\n",
       "}\n",
       "\n",
       ".xr-section-summary-in:checked ~ .xr-section-details {\n",
       "  display: contents;\n",
       "}\n",
       "\n",
       ".xr-array-wrap {\n",
       "  grid-column: 1 / -1;\n",
       "  display: grid;\n",
       "  grid-template-columns: 20px auto;\n",
       "}\n",
       "\n",
       ".xr-array-wrap > label {\n",
       "  grid-column: 1;\n",
       "  vertical-align: top;\n",
       "}\n",
       "\n",
       ".xr-preview {\n",
       "  color: var(--xr-font-color3);\n",
       "}\n",
       "\n",
       ".xr-array-preview,\n",
       ".xr-array-data {\n",
       "  padding: 0 5px !important;\n",
       "  grid-column: 2;\n",
       "}\n",
       "\n",
       ".xr-array-data,\n",
       ".xr-array-in:checked ~ .xr-array-preview {\n",
       "  display: none;\n",
       "}\n",
       "\n",
       ".xr-array-in:checked ~ .xr-array-data,\n",
       ".xr-array-preview {\n",
       "  display: inline-block;\n",
       "}\n",
       "\n",
       ".xr-dim-list {\n",
       "  display: inline-block !important;\n",
       "  list-style: none;\n",
       "  padding: 0 !important;\n",
       "  margin: 0;\n",
       "}\n",
       "\n",
       ".xr-dim-list li {\n",
       "  display: inline-block;\n",
       "  padding: 0;\n",
       "  margin: 0;\n",
       "}\n",
       "\n",
       ".xr-dim-list:before {\n",
       "  content: '(';\n",
       "}\n",
       "\n",
       ".xr-dim-list:after {\n",
       "  content: ')';\n",
       "}\n",
       "\n",
       ".xr-dim-list li:not(:last-child):after {\n",
       "  content: ',';\n",
       "  padding-right: 5px;\n",
       "}\n",
       "\n",
       ".xr-has-index {\n",
       "  font-weight: bold;\n",
       "}\n",
       "\n",
       ".xr-var-list,\n",
       ".xr-var-item {\n",
       "  display: contents;\n",
       "}\n",
       "\n",
       ".xr-var-item > div,\n",
       ".xr-var-item label,\n",
       ".xr-var-item > .xr-var-name span {\n",
       "  background-color: var(--xr-background-color-row-even);\n",
       "  margin-bottom: 0;\n",
       "}\n",
       "\n",
       ".xr-var-item > .xr-var-name:hover span {\n",
       "  padding-right: 5px;\n",
       "}\n",
       "\n",
       ".xr-var-list > li:nth-child(odd) > div,\n",
       ".xr-var-list > li:nth-child(odd) > label,\n",
       ".xr-var-list > li:nth-child(odd) > .xr-var-name span {\n",
       "  background-color: var(--xr-background-color-row-odd);\n",
       "}\n",
       "\n",
       ".xr-var-name {\n",
       "  grid-column: 1;\n",
       "}\n",
       "\n",
       ".xr-var-dims {\n",
       "  grid-column: 2;\n",
       "}\n",
       "\n",
       ".xr-var-dtype {\n",
       "  grid-column: 3;\n",
       "  text-align: right;\n",
       "  color: var(--xr-font-color2);\n",
       "}\n",
       "\n",
       ".xr-var-preview {\n",
       "  grid-column: 4;\n",
       "}\n",
       "\n",
       ".xr-var-name,\n",
       ".xr-var-dims,\n",
       ".xr-var-dtype,\n",
       ".xr-preview,\n",
       ".xr-attrs dt {\n",
       "  white-space: nowrap;\n",
       "  overflow: hidden;\n",
       "  text-overflow: ellipsis;\n",
       "  padding-right: 10px;\n",
       "}\n",
       "\n",
       ".xr-var-name:hover,\n",
       ".xr-var-dims:hover,\n",
       ".xr-var-dtype:hover,\n",
       ".xr-attrs dt:hover {\n",
       "  overflow: visible;\n",
       "  width: auto;\n",
       "  z-index: 1;\n",
       "}\n",
       "\n",
       ".xr-var-attrs,\n",
       ".xr-var-data {\n",
       "  display: none;\n",
       "  background-color: var(--xr-background-color) !important;\n",
       "  padding-bottom: 5px !important;\n",
       "}\n",
       "\n",
       ".xr-var-attrs-in:checked ~ .xr-var-attrs,\n",
       ".xr-var-data-in:checked ~ .xr-var-data {\n",
       "  display: block;\n",
       "}\n",
       "\n",
       ".xr-var-data > table {\n",
       "  float: right;\n",
       "}\n",
       "\n",
       ".xr-var-name span,\n",
       ".xr-var-data,\n",
       ".xr-attrs {\n",
       "  padding-left: 25px !important;\n",
       "}\n",
       "\n",
       ".xr-attrs,\n",
       ".xr-var-attrs,\n",
       ".xr-var-data {\n",
       "  grid-column: 1 / -1;\n",
       "}\n",
       "\n",
       "dl.xr-attrs {\n",
       "  padding: 0;\n",
       "  margin: 0;\n",
       "  display: grid;\n",
       "  grid-template-columns: 125px auto;\n",
       "}\n",
       "\n",
       ".xr-attrs dt,\n",
       ".xr-attrs dd {\n",
       "  padding: 0;\n",
       "  margin: 0;\n",
       "  float: left;\n",
       "  padding-right: 10px;\n",
       "  width: auto;\n",
       "}\n",
       "\n",
       ".xr-attrs dt {\n",
       "  font-weight: normal;\n",
       "  grid-column: 1;\n",
       "}\n",
       "\n",
       ".xr-attrs dt:hover span {\n",
       "  display: inline-block;\n",
       "  background: var(--xr-background-color);\n",
       "  padding-right: 10px;\n",
       "}\n",
       "\n",
       ".xr-attrs dd {\n",
       "  grid-column: 2;\n",
       "  white-space: pre-wrap;\n",
       "  word-break: break-all;\n",
       "}\n",
       "\n",
       ".xr-icon-database,\n",
       ".xr-icon-file-text2 {\n",
       "  display: inline-block;\n",
       "  vertical-align: middle;\n",
       "  width: 1em;\n",
       "  height: 1.5em !important;\n",
       "  stroke-width: 0;\n",
       "  stroke: currentColor;\n",
       "  fill: currentColor;\n",
       "}\n",
       "</style><pre class='xr-text-repr-fallback'>&lt;xarray.Dataset&gt;\n",
       "Dimensions:        (time: 114, height: 1400, bin_mid: 95)\n",
       "Coordinates:\n",
       "  * time           (time) datetime64[ns] 2022-04-01T11:25:00 ... 2022-04-01T1...\n",
       "  * height         (height) float32 -1e+03 -995.0 -990.0 ... 5.99e+03 5.995e+03\n",
       "  * bin_mid        (bin_mid) float64 3.9 6.2 8.85 ... 6.489e+03 6.592e+03\n",
       "Data variables: (12/19)\n",
       "    Ze             (time, height) float64 -inf -inf -inf -inf ... -inf -inf -inf\n",
       "    lon5           (time) float64 7.035 7.032 7.03 7.028 ... 6.75 6.748 6.745\n",
       "    lat5           (time) float64 79.46 79.46 79.46 79.46 ... 79.49 79.49 79.49\n",
       "    alt5           (time) float64 2.809e+03 2.809e+03 ... 2.807e+03 2.807e+03\n",
       "    lon6           (time) float64 7.128 7.125 7.123 7.12 ... 6.856 6.853 6.851\n",
       "    lat6           (time) float64 79.45 79.45 79.45 79.45 ... 79.48 79.48 79.48\n",
       "    ...             ...\n",
       "    Ze_mirac       (time) float64 1.15 1.328 1.539 ... -4.076 -4.304 -4.543\n",
       "    Ze_att         (time) float64 0.5065 0.5065 0.5065 ... 0.4056 0.4056 0.4056\n",
       "    M              (time) float64 0.04351 0.04429 0.0455 ... 0.02278 0.02244\n",
       "    Ze_mirac_corr  (time) float64 1.656 1.835 2.046 ... -3.671 -3.898 -4.138\n",
       "    psd_ice        (time, bin_mid) int64 0 0 0 0 0 0 0 0 0 ... 0 0 0 0 0 0 0 0 0\n",
       "    psd_liquid     (time, bin_mid) int64 918800663723 1893625985597 ... 0 0</pre><div class='xr-wrap' hidden><div class='xr-header'><div class='xr-obj-type'>xarray.Dataset</div></div><ul class='xr-sections'><li class='xr-section-item'><input id='section-bd511303-0af7-4153-a0ed-5777178e9db8' class='xr-section-summary-in' type='checkbox' disabled ><label for='section-bd511303-0af7-4153-a0ed-5777178e9db8' class='xr-section-summary'  title='Expand/collapse section'>Dimensions:</label><div class='xr-section-inline-details'><ul class='xr-dim-list'><li><span class='xr-has-index'>time</span>: 114</li><li><span class='xr-has-index'>height</span>: 1400</li><li><span class='xr-has-index'>bin_mid</span>: 95</li></ul></div><div class='xr-section-details'></div></li><li class='xr-section-item'><input id='section-a1ff34ee-27ca-4b98-b941-ef0ca38e089c' class='xr-section-summary-in' type='checkbox'  checked><label for='section-a1ff34ee-27ca-4b98-b941-ef0ca38e089c' class='xr-section-summary' >Coordinates: <span>(3)</span></label><div class='xr-section-inline-details'></div><div class='xr-section-details'><ul class='xr-var-list'><li class='xr-var-item'><div class='xr-var-name'><span class='xr-has-index'>time</span></div><div class='xr-var-dims'>(time)</div><div class='xr-var-dtype'>datetime64[ns]</div><div class='xr-var-preview xr-preview'>2022-04-01T11:25:00 ... 2022-04-...</div><input id='attrs-014b96b7-7513-4ce8-8def-cb6b0ff967b7' class='xr-var-attrs-in' type='checkbox' disabled><label for='attrs-014b96b7-7513-4ce8-8def-cb6b0ff967b7' title='Show/Hide attributes'><svg class='icon xr-icon-file-text2'><use xlink:href='#icon-file-text2'></use></svg></label><input id='data-f94aea98-195b-4703-ae71-b2af33dd1533' class='xr-var-data-in' type='checkbox'><label for='data-f94aea98-195b-4703-ae71-b2af33dd1533' title='Show/Hide data repr'><svg class='icon xr-icon-database'><use xlink:href='#icon-database'></use></svg></label><div class='xr-var-attrs'><dl class='xr-attrs'></dl></div><div class='xr-var-data'><pre>array([&#x27;2022-04-01T11:25:00.000000000&#x27;, &#x27;2022-04-01T11:25:01.000000000&#x27;,\n",
       "       &#x27;2022-04-01T11:25:02.000000000&#x27;, &#x27;2022-04-01T11:25:03.000000000&#x27;,\n",
       "       &#x27;2022-04-01T11:25:04.000000000&#x27;, &#x27;2022-04-01T11:25:05.000000000&#x27;,\n",
       "       &#x27;2022-04-01T11:25:06.000000000&#x27;, &#x27;2022-04-01T11:25:07.000000000&#x27;,\n",
       "       &#x27;2022-04-01T11:25:08.000000000&#x27;, &#x27;2022-04-01T11:25:09.000000000&#x27;,\n",
       "       &#x27;2022-04-01T11:25:10.000000000&#x27;, &#x27;2022-04-01T11:25:11.000000000&#x27;,\n",
       "       &#x27;2022-04-01T11:25:12.000000000&#x27;, &#x27;2022-04-01T11:25:13.000000000&#x27;,\n",
       "       &#x27;2022-04-01T11:25:15.000000000&#x27;, &#x27;2022-04-01T11:25:16.000000000&#x27;,\n",
       "       &#x27;2022-04-01T11:25:17.000000000&#x27;, &#x27;2022-04-01T11:25:18.000000000&#x27;,\n",
       "       &#x27;2022-04-01T11:25:19.000000000&#x27;, &#x27;2022-04-01T11:25:20.000000000&#x27;,\n",
       "       &#x27;2022-04-01T11:25:21.000000000&#x27;, &#x27;2022-04-01T11:25:22.000000000&#x27;,\n",
       "       &#x27;2022-04-01T11:25:23.000000000&#x27;, &#x27;2022-04-01T11:25:24.000000000&#x27;,\n",
       "       &#x27;2022-04-01T11:25:25.000000000&#x27;, &#x27;2022-04-01T11:25:26.000000000&#x27;,\n",
       "       &#x27;2022-04-01T11:25:27.000000000&#x27;, &#x27;2022-04-01T11:25:28.000000000&#x27;,\n",
       "       &#x27;2022-04-01T11:25:29.000000000&#x27;, &#x27;2022-04-01T11:25:30.000000000&#x27;,\n",
       "       &#x27;2022-04-01T11:25:31.000000000&#x27;, &#x27;2022-04-01T11:25:32.000000000&#x27;,\n",
       "       &#x27;2022-04-01T11:25:33.000000000&#x27;, &#x27;2022-04-01T11:25:34.000000000&#x27;,\n",
       "       &#x27;2022-04-01T11:25:35.000000000&#x27;, &#x27;2022-04-01T11:25:36.000000000&#x27;,\n",
       "       &#x27;2022-04-01T11:25:37.000000000&#x27;, &#x27;2022-04-01T11:25:38.000000000&#x27;,\n",
       "       &#x27;2022-04-01T11:25:39.000000000&#x27;, &#x27;2022-04-01T11:25:40.000000000&#x27;,\n",
       "       &#x27;2022-04-01T11:25:41.000000000&#x27;, &#x27;2022-04-01T11:25:42.000000000&#x27;,\n",
       "       &#x27;2022-04-01T11:25:43.000000000&#x27;, &#x27;2022-04-01T11:25:44.000000000&#x27;,\n",
       "       &#x27;2022-04-01T11:25:45.000000000&#x27;, &#x27;2022-04-01T11:25:46.000000000&#x27;,\n",
       "       &#x27;2022-04-01T11:25:47.000000000&#x27;, &#x27;2022-04-01T11:25:48.000000000&#x27;,\n",
       "       &#x27;2022-04-01T11:25:49.000000000&#x27;, &#x27;2022-04-01T11:25:50.000000000&#x27;,\n",
       "       &#x27;2022-04-01T11:25:51.000000000&#x27;, &#x27;2022-04-01T11:25:52.000000000&#x27;,\n",
       "       &#x27;2022-04-01T11:25:53.000000000&#x27;, &#x27;2022-04-01T11:25:54.000000000&#x27;,\n",
       "       &#x27;2022-04-01T11:25:55.000000000&#x27;, &#x27;2022-04-01T11:25:56.000000000&#x27;,\n",
       "       &#x27;2022-04-01T11:25:57.000000000&#x27;, &#x27;2022-04-01T11:25:58.000000000&#x27;,\n",
       "       &#x27;2022-04-01T11:25:59.000000000&#x27;, &#x27;2022-04-01T11:26:00.000000000&#x27;,\n",
       "       &#x27;2022-04-01T11:26:01.000000000&#x27;, &#x27;2022-04-01T11:26:02.000000000&#x27;,\n",
       "       &#x27;2022-04-01T11:26:03.000000000&#x27;, &#x27;2022-04-01T11:26:04.000000000&#x27;,\n",
       "       &#x27;2022-04-01T11:26:05.000000000&#x27;, &#x27;2022-04-01T11:26:06.000000000&#x27;,\n",
       "       &#x27;2022-04-01T11:26:07.000000000&#x27;, &#x27;2022-04-01T11:26:08.000000000&#x27;,\n",
       "       &#x27;2022-04-01T11:26:09.000000000&#x27;, &#x27;2022-04-01T11:26:10.000000000&#x27;,\n",
       "       &#x27;2022-04-01T11:26:11.000000000&#x27;, &#x27;2022-04-01T11:26:12.000000000&#x27;,\n",
       "       &#x27;2022-04-01T11:26:13.000000000&#x27;, &#x27;2022-04-01T11:26:14.000000000&#x27;,\n",
       "       &#x27;2022-04-01T11:26:15.000000000&#x27;, &#x27;2022-04-01T11:26:16.000000000&#x27;,\n",
       "       &#x27;2022-04-01T11:26:17.000000000&#x27;, &#x27;2022-04-01T11:26:18.000000000&#x27;,\n",
       "       &#x27;2022-04-01T11:26:19.000000000&#x27;, &#x27;2022-04-01T11:26:20.000000000&#x27;,\n",
       "       &#x27;2022-04-01T11:26:21.000000000&#x27;, &#x27;2022-04-01T11:26:22.000000000&#x27;,\n",
       "       &#x27;2022-04-01T11:26:23.000000000&#x27;, &#x27;2022-04-01T11:26:24.000000000&#x27;,\n",
       "       &#x27;2022-04-01T11:26:25.000000000&#x27;, &#x27;2022-04-01T11:26:26.000000000&#x27;,\n",
       "       &#x27;2022-04-01T11:26:27.000000000&#x27;, &#x27;2022-04-01T11:26:28.000000000&#x27;,\n",
       "       &#x27;2022-04-01T11:26:29.000000000&#x27;, &#x27;2022-04-01T11:26:30.000000000&#x27;,\n",
       "       &#x27;2022-04-01T11:26:32.000000000&#x27;, &#x27;2022-04-01T11:26:33.000000000&#x27;,\n",
       "       &#x27;2022-04-01T11:26:34.000000000&#x27;, &#x27;2022-04-01T11:26:35.000000000&#x27;,\n",
       "       &#x27;2022-04-01T11:26:36.000000000&#x27;, &#x27;2022-04-01T11:26:37.000000000&#x27;,\n",
       "       &#x27;2022-04-01T11:26:38.000000000&#x27;, &#x27;2022-04-01T11:26:39.000000000&#x27;,\n",
       "       &#x27;2022-04-01T11:26:40.000000000&#x27;, &#x27;2022-04-01T11:26:41.000000000&#x27;,\n",
       "       &#x27;2022-04-01T11:26:42.000000000&#x27;, &#x27;2022-04-01T11:26:43.000000000&#x27;,\n",
       "       &#x27;2022-04-01T11:26:44.000000000&#x27;, &#x27;2022-04-01T11:26:45.000000000&#x27;,\n",
       "       &#x27;2022-04-01T11:26:46.000000000&#x27;, &#x27;2022-04-01T11:26:47.000000000&#x27;,\n",
       "       &#x27;2022-04-01T11:26:48.000000000&#x27;, &#x27;2022-04-01T11:26:49.000000000&#x27;,\n",
       "       &#x27;2022-04-01T11:26:50.000000000&#x27;, &#x27;2022-04-01T11:26:51.000000000&#x27;,\n",
       "       &#x27;2022-04-01T11:26:52.000000000&#x27;, &#x27;2022-04-01T11:26:53.000000000&#x27;,\n",
       "       &#x27;2022-04-01T11:26:54.000000000&#x27;, &#x27;2022-04-01T11:26:55.000000000&#x27;],\n",
       "      dtype=&#x27;datetime64[ns]&#x27;)</pre></div></li><li class='xr-var-item'><div class='xr-var-name'><span class='xr-has-index'>height</span></div><div class='xr-var-dims'>(height)</div><div class='xr-var-dtype'>float32</div><div class='xr-var-preview xr-preview'>-1e+03 -995.0 ... 5.995e+03</div><input id='attrs-ec9263a8-3c12-49ff-846f-be400da2b820' class='xr-var-attrs-in' type='checkbox' disabled><label for='attrs-ec9263a8-3c12-49ff-846f-be400da2b820' title='Show/Hide attributes'><svg class='icon xr-icon-file-text2'><use xlink:href='#icon-file-text2'></use></svg></label><input id='data-8685f85a-6366-48b3-a3ac-adb597dc80fb' class='xr-var-data-in' type='checkbox'><label for='data-8685f85a-6366-48b3-a3ac-adb597dc80fb' title='Show/Hide data repr'><svg class='icon xr-icon-database'><use xlink:href='#icon-database'></use></svg></label><div class='xr-var-attrs'><dl class='xr-attrs'></dl></div><div class='xr-var-data'><pre>array([-1000.,  -995.,  -990., ...,  5985.,  5990.,  5995.], dtype=float32)</pre></div></li><li class='xr-var-item'><div class='xr-var-name'><span class='xr-has-index'>bin_mid</span></div><div class='xr-var-dims'>(bin_mid)</div><div class='xr-var-dtype'>float64</div><div class='xr-var-preview xr-preview'>3.9 6.2 ... 6.489e+03 6.592e+03</div><input id='attrs-3cc6a855-cdeb-40e0-9447-4343775b42cc' class='xr-var-attrs-in' type='checkbox' disabled><label for='attrs-3cc6a855-cdeb-40e0-9447-4343775b42cc' title='Show/Hide attributes'><svg class='icon xr-icon-file-text2'><use xlink:href='#icon-file-text2'></use></svg></label><input id='data-dfdc1c5d-ebde-4516-b650-d531e3b9eba3' class='xr-var-data-in' type='checkbox'><label for='data-dfdc1c5d-ebde-4516-b650-d531e3b9eba3' title='Show/Hide data repr'><svg class='icon xr-icon-database'><use xlink:href='#icon-database'></use></svg></label><div class='xr-var-attrs'><dl class='xr-attrs'></dl></div><div class='xr-var-data'><pre>array([3.900e+00, 6.200e+00, 8.850e+00, 1.090e+01, 1.265e+01, 1.480e+01,\n",
       "       1.665e+01, 1.800e+01, 1.970e+01, 2.180e+01, 2.375e+01, 2.540e+01,\n",
       "       2.690e+01, 2.865e+01, 3.065e+01, 3.255e+01, 3.415e+01, 4.400e+01,\n",
       "       6.000e+01, 7.500e+01, 9.000e+01, 1.050e+02, 1.200e+02, 1.350e+02,\n",
       "       1.500e+02, 1.650e+02, 1.800e+02, 1.950e+02, 2.100e+02, 2.250e+02,\n",
       "       2.400e+02, 2.550e+02, 2.700e+02, 2.850e+02, 3.785e+02, 5.150e+02,\n",
       "       6.180e+02, 7.210e+02, 8.240e+02, 9.270e+02, 1.030e+03, 1.133e+03,\n",
       "       1.236e+03, 1.339e+03, 1.442e+03, 1.545e+03, 1.648e+03, 1.751e+03,\n",
       "       1.854e+03, 1.957e+03, 2.060e+03, 2.163e+03, 2.266e+03, 2.369e+03,\n",
       "       2.472e+03, 2.575e+03, 2.678e+03, 2.781e+03, 2.884e+03, 2.987e+03,\n",
       "       3.090e+03, 3.193e+03, 3.296e+03, 3.399e+03, 3.502e+03, 3.605e+03,\n",
       "       3.708e+03, 3.811e+03, 3.914e+03, 4.017e+03, 4.120e+03, 4.223e+03,\n",
       "       4.326e+03, 4.429e+03, 4.532e+03, 4.635e+03, 4.738e+03, 4.841e+03,\n",
       "       4.944e+03, 5.047e+03, 5.150e+03, 5.253e+03, 5.356e+03, 5.459e+03,\n",
       "       5.562e+03, 5.665e+03, 5.768e+03, 5.871e+03, 5.974e+03, 6.077e+03,\n",
       "       6.180e+03, 6.283e+03, 6.386e+03, 6.489e+03, 6.592e+03])</pre></div></li></ul></div></li><li class='xr-section-item'><input id='section-698e3e3e-63f5-4657-845d-c19d17b47255' class='xr-section-summary-in' type='checkbox'  ><label for='section-698e3e3e-63f5-4657-845d-c19d17b47255' class='xr-section-summary' >Data variables: <span>(19)</span></label><div class='xr-section-inline-details'></div><div class='xr-section-details'><ul class='xr-var-list'><li class='xr-var-item'><div class='xr-var-name'><span>Ze</span></div><div class='xr-var-dims'>(time, height)</div><div class='xr-var-dtype'>float64</div><div class='xr-var-preview xr-preview'>-inf -inf -inf ... -inf -inf -inf</div><input id='attrs-5b613305-bdb9-4b9c-8fe2-56cc6a5dab41' class='xr-var-attrs-in' type='checkbox' disabled><label for='attrs-5b613305-bdb9-4b9c-8fe2-56cc6a5dab41' title='Show/Hide attributes'><svg class='icon xr-icon-file-text2'><use xlink:href='#icon-file-text2'></use></svg></label><input id='data-849d4720-83e6-4287-8265-ffe3278c866e' class='xr-var-data-in' type='checkbox'><label for='data-849d4720-83e6-4287-8265-ffe3278c866e' title='Show/Hide data repr'><svg class='icon xr-icon-database'><use xlink:href='#icon-database'></use></svg></label><div class='xr-var-attrs'><dl class='xr-attrs'></dl></div><div class='xr-var-data'><pre>array([[-inf, -inf, -inf, ..., -inf, -inf, -inf],\n",
       "       [-inf, -inf, -inf, ..., -inf, -inf, -inf],\n",
       "       [-inf, -inf, -inf, ..., -inf, -inf, -inf],\n",
       "       ...,\n",
       "       [-inf, -inf, -inf, ..., -inf, -inf, -inf],\n",
       "       [-inf, -inf, -inf, ..., -inf, -inf, -inf],\n",
       "       [-inf, -inf, -inf, ..., -inf, -inf, -inf]])</pre></div></li><li class='xr-var-item'><div class='xr-var-name'><span>lon5</span></div><div class='xr-var-dims'>(time)</div><div class='xr-var-dtype'>float64</div><div class='xr-var-preview xr-preview'>7.035 7.032 7.03 ... 6.748 6.745</div><input id='attrs-d3cf151e-5cb8-49f4-975d-34182f7da5a2' class='xr-var-attrs-in' type='checkbox' disabled><label for='attrs-d3cf151e-5cb8-49f4-975d-34182f7da5a2' title='Show/Hide attributes'><svg class='icon xr-icon-file-text2'><use xlink:href='#icon-file-text2'></use></svg></label><input id='data-32e09f69-22f4-420e-a10a-dd3464a6b9c2' class='xr-var-data-in' type='checkbox'><label for='data-32e09f69-22f4-420e-a10a-dd3464a6b9c2' title='Show/Hide data repr'><svg class='icon xr-icon-database'><use xlink:href='#icon-database'></use></svg></label><div class='xr-var-attrs'><dl class='xr-attrs'></dl></div><div class='xr-var-data'><pre>array([7.03489604, 7.03246527, 7.03003403, 7.02760185, 7.0251682 ,\n",
       "       7.02273261, 7.02029467, 7.01785402, 7.01541044, 7.01296366,\n",
       "       7.01051351, 7.00805982, 7.00560228, 7.00314064, 7.00067463,\n",
       "       6.99820401, 6.99572862, 6.99324837, 6.99076316, 6.98827284,\n",
       "       6.9857773 , 6.98327643, 6.98077014, 6.97825832, 6.97574088,\n",
       "       6.97321773, 6.97068882, 6.96815414, 6.96561376, 6.96306798,\n",
       "       6.96059573, 6.95811923, 6.95563889, 6.95315512, 6.9506683 ,\n",
       "       6.9481788 , 6.94568688, 6.9431928 , 6.94069672, 6.9381988 ,\n",
       "       6.93569918, 6.93319801, 6.93069557, 6.92819212, 6.92568796,\n",
       "       6.92318335, 6.92067844, 6.91817336, 6.91566831, 6.91316352,\n",
       "       6.91065909, 6.90815509, 6.90565146, 6.90314798, 6.90064437,\n",
       "       6.89814021, 6.89563508, 6.89312865, 6.89062057, 6.88811043,\n",
       "       6.88559788, 6.8830826 , 6.88056436, 6.87804295, 6.87551832,\n",
       "       6.87299051, 6.8704596 , 6.86792569, 6.86538889, 6.86284922,\n",
       "       6.86030676, 6.85776145, 6.85521321, 6.8526619 , 6.85010732,\n",
       "       6.84754923, 6.84489973, 6.84224612, 6.8395881 , 6.83692541,\n",
       "       6.83425792, 6.83158555, 6.82890833, 6.82622649, 6.82354032,\n",
       "       6.82085015, 6.81815635, 6.81545922, 6.81275897, 6.81005584,\n",
       "       6.80734997, 6.80464134, 6.80192989, 6.79921548, 6.7964979 ,\n",
       "       6.79377694, 6.79105244, 6.78832429, 6.78559241, 6.78285685,\n",
       "       6.78011761, 6.77737478, 6.77462843, 6.77187866, 6.76912551,\n",
       "       6.7663691 , 6.76369721, 6.76102236, 6.7583446 , 6.755664  ,\n",
       "       6.75298052, 6.75029418, 6.74760501, 6.74491293])</pre></div></li><li class='xr-var-item'><div class='xr-var-name'><span>lat5</span></div><div class='xr-var-dims'>(time)</div><div class='xr-var-dtype'>float64</div><div class='xr-var-preview xr-preview'>79.46 79.46 79.46 ... 79.49 79.49</div><input id='attrs-831bf0c7-89f6-4d3e-aa77-838bbcef9805' class='xr-var-attrs-in' type='checkbox' disabled><label for='attrs-831bf0c7-89f6-4d3e-aa77-838bbcef9805' title='Show/Hide attributes'><svg class='icon xr-icon-file-text2'><use xlink:href='#icon-file-text2'></use></svg></label><input id='data-3a42f085-c5d7-4d2c-b701-ad7b54a38ddc' class='xr-var-data-in' type='checkbox'><label for='data-3a42f085-c5d7-4d2c-b701-ad7b54a38ddc' title='Show/Hide data repr'><svg class='icon xr-icon-database'><use xlink:href='#icon-database'></use></svg></label><div class='xr-var-attrs'><dl class='xr-attrs'></dl></div><div class='xr-var-data'><pre>array([79.45855789, 79.45881907, 79.45908076, 79.45934245, 79.45960414,\n",
       "       79.45986582, 79.46012726, 79.46038869, 79.46064987, 79.46091029,\n",
       "       79.46117045, 79.46142985, 79.461689  , 79.46194738, 79.46220525,\n",
       "       79.46246236, 79.46271871, 79.46297455, 79.46322937, 79.46348343,\n",
       "       79.46373672, 79.463989  , 79.46424077, 79.46449178, 79.46474202,\n",
       "       79.46499125, 79.46523972, 79.46548742, 79.46573435, 79.46598028,\n",
       "       79.46621679, 79.46645253, 79.46668752, 79.466922  , 79.46715597,\n",
       "       79.46738942, 79.46762288, 79.46785583, 79.46808879, 79.46832225,\n",
       "       79.4685557 , 79.46878967, 79.4690239 , 79.46925863, 79.46949412,\n",
       "       79.46973038, 79.4699674 , 79.47020493, 79.47044347, 79.47068278,\n",
       "       79.47092285, 79.47116394, 79.47140605, 79.47164892, 79.47189255,\n",
       "       79.47213694, 79.4723821 , 79.47262802, 79.47287445, 79.47312164,\n",
       "       79.4733696 , 79.47361832, 79.47386754, 79.47411753, 79.47436829,\n",
       "       79.4746198 , 79.47487208, 79.47512512, 79.47537893, 79.47563299,\n",
       "       79.47588781, 79.47614314, 79.47639872, 79.47665482, 79.47691116,\n",
       "       79.47716777, 79.47743352, 79.47769953, 79.47796555, 79.47823207,\n",
       "       79.47849859, 79.47876511, 79.47903137, 79.47929764, 79.4795639 ,\n",
       "       79.47983017, 79.48009644, 79.4803627 , 79.48062897, 79.48089549,\n",
       "       79.48116175, 79.48142802, 79.48169429, 79.48196055, 79.48222631,\n",
       "       79.48249181, 79.48275681, 79.48302155, 79.48328578, 79.48354975,\n",
       "       79.48381322, 79.48407593, 79.48433838, 79.48460032, 79.48486176,\n",
       "       79.48512268, 79.4853742 , 79.4856252 , 79.4858757 , 79.48612544,\n",
       "       79.48637466, 79.48662338, 79.48687159, 79.48711929])</pre></div></li><li class='xr-var-item'><div class='xr-var-name'><span>alt5</span></div><div class='xr-var-dims'>(time)</div><div class='xr-var-dtype'>float64</div><div class='xr-var-preview xr-preview'>2.809e+03 2.809e+03 ... 2.807e+03</div><input id='attrs-177fee2a-31d0-460d-af2a-f3dd86076913' class='xr-var-attrs-in' type='checkbox' disabled><label for='attrs-177fee2a-31d0-460d-af2a-f3dd86076913' title='Show/Hide attributes'><svg class='icon xr-icon-file-text2'><use xlink:href='#icon-file-text2'></use></svg></label><input id='data-82f42f16-aac2-4685-95b4-af0b655367b8' class='xr-var-data-in' type='checkbox'><label for='data-82f42f16-aac2-4685-95b4-af0b655367b8' title='Show/Hide data repr'><svg class='icon xr-icon-database'><use xlink:href='#icon-database'></use></svg></label><div class='xr-var-attrs'><dl class='xr-attrs'></dl></div><div class='xr-var-data'><pre>array([2808.80633952, 2809.06123861, 2809.30324707, 2809.53159993,\n",
       "       2809.74871419, 2809.96062826, 2810.17751465, 2810.40852865,\n",
       "       2810.65431315, 2810.90713704, 2811.1601237 , 2811.41367188,\n",
       "       2811.67145182, 2811.92880859, 2812.1761556 , 2812.41308594,\n",
       "       2812.65203451, 2812.9032959 , 2813.16719564, 2813.43958333,\n",
       "       2813.71194661, 2813.97348633, 2814.21860352, 2814.44943034,\n",
       "       2814.6732015 , 2814.89593913, 2815.1232015 , 2815.3619222 ,\n",
       "       2815.61801758, 2815.8946696 , 2816.1763916 , 2816.48032227,\n",
       "       2816.80354004, 2817.14084473, 2817.48102214, 2817.8084554 ,\n",
       "       2818.11039225, 2818.38063965, 2818.62173665, 2818.83779297,\n",
       "       2819.02781576, 2819.19192708, 2819.33550618, 2819.47298991,\n",
       "       2819.61748047, 2819.77141927, 2819.92509766, 2820.07338867,\n",
       "       2820.22114258, 2820.37285156, 2820.53138835, 2820.69913737,\n",
       "       2820.8730306 , 2821.04105632, 2821.190389  , 2821.3175293 ,\n",
       "       2821.42503255, 2821.50974935, 2821.56210124, 2821.57494303,\n",
       "       2821.54544271, 2821.47354329, 2821.36025391, 2821.20839844,\n",
       "       2821.0313151 , 2820.84671224, 2820.66415202, 2820.49065755,\n",
       "       2820.33091634, 2820.18544108, 2820.0521403 , 2819.9259847 ,\n",
       "       2819.79719238, 2819.65010579, 2819.47525228, 2819.26964518,\n",
       "       2819.00448405, 2818.71149902, 2818.38809408, 2818.03762207,\n",
       "       2817.66991374, 2817.29562174, 2816.92373861, 2816.56178385,\n",
       "       2816.21391602, 2815.87658691, 2815.54306641, 2815.21229655,\n",
       "       2814.89067383, 2814.57928874, 2814.27331543, 2813.96844889,\n",
       "       2813.66426595, 2813.36039225, 2813.05212402, 2812.73503418,\n",
       "       2812.40773926, 2812.07011719, 2811.72237142, 2811.36461589,\n",
       "       2810.99767253, 2810.62328288, 2810.24729818, 2809.8766276 ,\n",
       "       2809.51849772, 2809.17644043, 2808.87758789, 2808.58468424,\n",
       "       2808.29213053, 2807.99291178, 2807.68098145, 2807.35276693,\n",
       "       2807.00458171, 2806.63330892])</pre></div></li><li class='xr-var-item'><div class='xr-var-name'><span>lon6</span></div><div class='xr-var-dims'>(time)</div><div class='xr-var-dtype'>float64</div><div class='xr-var-preview xr-preview'>7.128 7.125 7.123 ... 6.853 6.851</div><input id='attrs-e621b1c4-3b7b-431f-9e14-ecf7ad7eba04' class='xr-var-attrs-in' type='checkbox' disabled><label for='attrs-e621b1c4-3b7b-431f-9e14-ecf7ad7eba04' title='Show/Hide attributes'><svg class='icon xr-icon-file-text2'><use xlink:href='#icon-file-text2'></use></svg></label><input id='data-5f74de1b-5901-430f-9dde-664fbb4377a3' class='xr-var-data-in' type='checkbox'><label for='data-5f74de1b-5901-430f-9dde-664fbb4377a3' title='Show/Hide data repr'><svg class='icon xr-icon-database'><use xlink:href='#icon-database'></use></svg></label><div class='xr-var-attrs'><dl class='xr-attrs'></dl></div><div class='xr-var-data'><pre>array([7.12763278, 7.12519683, 7.12276694, 7.12034272, 7.11792333,\n",
       "       7.11550756, 7.11309406, 7.11068122, 7.10826672, 7.10584856,\n",
       "       7.10342489, 7.100994  , 7.09855533, 7.09610906, 7.09365528,\n",
       "       7.09119411, 7.08872578, 7.08625144, 7.08377233, 7.08128972,\n",
       "       7.0788045 , 7.07631794, 7.07383122, 7.07134489, 7.0688595 ,\n",
       "       7.06637539, 7.06389261, 7.06141122, 7.058931  , 7.05645128,\n",
       "       7.05404683, 7.05164206, 7.04923667, 7.04683   , 7.04442133,\n",
       "       7.04200989, 7.03959522, 7.03717778, 7.03475944, 7.03234194,\n",
       "       7.02992628, 7.02751372, 7.02510483, 7.02269972, 7.0202985 ,\n",
       "       7.017901  , 7.015507  , 7.01311633, 7.01072922, 7.00834589,\n",
       "       7.00596617, 7.003589  , 7.00121322, 6.99883806, 6.99646217,\n",
       "       6.99408428, 6.99170361, 6.98931983, 6.98693294, 6.98454339,\n",
       "       6.9821515 , 6.97975739, 6.97736117, 6.97496317, 6.97256461,\n",
       "       6.97016728, 6.967773  , 6.96538339, 6.96299939, 6.9606215 ,\n",
       "       6.95825033, 6.95588611, 6.95352939, 6.95118033, 6.94883906,\n",
       "       6.94650556, 6.94410311, 6.94170589, 6.93931256, 6.93692139,\n",
       "       6.93453039, 6.93213761, 6.92974161, 6.92734139, 6.92493667,\n",
       "       6.92252678, 6.92011083, 6.91768761, 6.91525594, 6.91281422,\n",
       "       6.91036072, 6.90789417, 6.90541378, 6.90291867, 6.90040761,\n",
       "       6.89787989, 6.89533561, 6.89277511, 6.89019883, 6.88760706,\n",
       "       6.88500028, 6.88237933, 6.87974511, 6.8770985 , 6.87443989,\n",
       "       6.87176939, 6.86916356, 6.86654756, 6.86392211, 6.86128828,\n",
       "       6.85864744, 6.85600133, 6.85335083, 6.85069611])</pre></div></li><li class='xr-var-item'><div class='xr-var-name'><span>lat6</span></div><div class='xr-var-dims'>(time)</div><div class='xr-var-dtype'>float64</div><div class='xr-var-preview xr-preview'>79.45 79.45 79.45 ... 79.48 79.48</div><input id='attrs-13eb760a-73e9-49a0-aca1-9b7a5487378c' class='xr-var-attrs-in' type='checkbox' disabled><label for='attrs-13eb760a-73e9-49a0-aca1-9b7a5487378c' title='Show/Hide attributes'><svg class='icon xr-icon-file-text2'><use xlink:href='#icon-file-text2'></use></svg></label><input id='data-3733ecd6-9347-4230-9d27-97f7502a4e10' class='xr-var-data-in' type='checkbox'><label for='data-3733ecd6-9347-4230-9d27-97f7502a4e10' title='Show/Hide data repr'><svg class='icon xr-icon-database'><use xlink:href='#icon-database'></use></svg></label><div class='xr-var-attrs'><dl class='xr-attrs'></dl></div><div class='xr-var-data'><pre>array([79.45037906, 79.45063917, 79.45089994, 79.4511615 , 79.45142383,\n",
       "       79.45168683, 79.45195039, 79.4522145 , 79.45247872, 79.45274289,\n",
       "       79.45300661, 79.4532695 , 79.45353144, 79.45379228, 79.454052  ,\n",
       "       79.45431056, 79.45456783, 79.45482411, 79.45507944, 79.45533389,\n",
       "       79.45558733, 79.45583972, 79.45609078, 79.45634028, 79.45658789,\n",
       "       79.45683339, 79.4570765 , 79.457317  , 79.45755478, 79.45778961,\n",
       "       79.45801261, 79.45823233, 79.45844872, 79.45866178, 79.45887156,\n",
       "       79.45907817, 79.45928178, 79.45948256, 79.45968117, 79.45987817,\n",
       "       79.46007406, 79.46026928, 79.46046422, 79.46065906, 79.46085394,\n",
       "       79.46104894, 79.46124411, 79.46143944, 79.46163511, 79.46183139,\n",
       "       79.4620285 , 79.46222661, 79.46242594, 79.46262661, 79.46282878,\n",
       "       79.46303239, 79.46323756, 79.46344444, 79.46365322, 79.46386406,\n",
       "       79.46407711, 79.46429239, 79.46450978, 79.46472906, 79.46495017,\n",
       "       79.465173  , 79.46539756, 79.46562383, 79.46585167, 79.46608083,\n",
       "       79.46631128, 79.46654294, 79.46677578, 79.46700989, 79.46724522,\n",
       "       79.46748183, 79.46772872, 79.46797683, 79.46822611, 79.46847639,\n",
       "       79.46872728, 79.46897844, 79.4692295 , 79.46948028, 79.46973067,\n",
       "       79.46998072, 79.47023028, 79.47047917, 79.47072717, 79.47097406,\n",
       "       79.47121956, 79.47146339, 79.47170556, 79.47194606, 79.47218478,\n",
       "       79.47242189, 79.47265744, 79.47289156, 79.47312422, 79.47335522,\n",
       "       79.47358433, 79.4738115 , 79.47403661, 79.47425967, 79.47448072,\n",
       "       79.47469983, 79.47490817, 79.47511494, 79.47532044, 79.475525  ,\n",
       "       79.47572928, 79.47593389, 79.47613928, 79.47634578])</pre></div></li><li class='xr-var-item'><div class='xr-var-name'><span>alt6</span></div><div class='xr-var-dims'>(time)</div><div class='xr-var-dtype'>float64</div><div class='xr-var-preview xr-preview'>260.5 261.1 261.7 ... 464.8 464.6</div><input id='attrs-59945ca3-dc31-4bf1-a631-9355c44e38af' class='xr-var-attrs-in' type='checkbox' disabled><label for='attrs-59945ca3-dc31-4bf1-a631-9355c44e38af' title='Show/Hide attributes'><svg class='icon xr-icon-file-text2'><use xlink:href='#icon-file-text2'></use></svg></label><input id='data-fa753c9f-0cdc-443b-8a58-d4f230bf5dfe' class='xr-var-data-in' type='checkbox'><label for='data-fa753c9f-0cdc-443b-8a58-d4f230bf5dfe' title='Show/Hide data repr'><svg class='icon xr-icon-database'><use xlink:href='#icon-database'></use></svg></label><div class='xr-var-attrs'><dl class='xr-attrs'></dl></div><div class='xr-var-data'><pre>array([260.51266667, 261.13266667, 261.69033333, 262.16433333,\n",
       "       262.58366667, 262.91133333, 263.186     , 263.49666667,\n",
       "       263.886     , 264.28966667, 264.70133333, 265.13266667,\n",
       "       265.535     , 265.91833333, 266.31466667, 266.74066667,\n",
       "       267.219     , 267.733     , 268.35333333, 269.094     ,\n",
       "       270.01466667, 271.161     , 272.56166667, 274.20133333,\n",
       "       276.023     , 277.96766667, 280.051     , 282.33466667,\n",
       "       284.79933333, 287.447     , 290.31066667, 293.299     ,\n",
       "       296.38133333, 299.51066667, 302.63466667, 305.763     ,\n",
       "       308.896     , 312.02666667, 315.13133333, 318.20666667,\n",
       "       321.226     , 324.19133333, 327.175     , 330.249     ,\n",
       "       333.396     , 336.58533333, 339.785     , 342.955     ,\n",
       "       346.08533333, 349.197     , 352.255     , 355.22566667,\n",
       "       358.09233333, 360.877     , 363.61866667, 366.338     ,\n",
       "       369.01933333, 371.64766667, 374.24033333, 376.736     ,\n",
       "       379.13633333, 381.509     , 383.90566667, 386.38133333,\n",
       "       388.99533333, 391.773     , 394.67366667, 397.61666667,\n",
       "       400.57466667, 403.56666667, 406.56666667, 409.50933333,\n",
       "       412.36533333, 415.14633333, 417.91033333, 420.66      ,\n",
       "       423.36166667, 425.965     , 428.41933333, 430.733     ,\n",
       "       432.97733333, 435.18733333, 437.36266667, 439.51566667,\n",
       "       441.58133333, 443.49466667, 445.24866667, 446.823     ,\n",
       "       448.25266667, 449.60166667, 450.90966667, 452.13666667,\n",
       "       453.22966667, 454.16433333, 454.93633333, 455.55866667,\n",
       "       456.063     , 456.48      , 456.86033333, 457.257     ,\n",
       "       457.74066667, 458.37133333, 459.14866667, 460.009     ,\n",
       "       460.88      , 461.73      , 462.517     , 463.26933333,\n",
       "       463.907     , 464.37133333, 464.666     , 464.83933333,\n",
       "       464.83333333, 464.606     ])</pre></div></li><li class='xr-var-item'><div class='xr-var-name'><span>distance</span></div><div class='xr-var-dims'>(time)</div><div class='xr-var-dtype'>float64</div><div class='xr-var-preview xr-preview'>2.095e+03 2.095e+03 ... 2.459e+03</div><input id='attrs-75d94786-0a14-415f-aaa7-59fe1f21ae0d' class='xr-var-attrs-in' type='checkbox' disabled><label for='attrs-75d94786-0a14-415f-aaa7-59fe1f21ae0d' title='Show/Hide attributes'><svg class='icon xr-icon-file-text2'><use xlink:href='#icon-file-text2'></use></svg></label><input id='data-7b05ff48-beab-4f3a-af44-649ad728c8fb' class='xr-var-data-in' type='checkbox'><label for='data-7b05ff48-beab-4f3a-af44-649ad728c8fb' title='Show/Hide data repr'><svg class='icon xr-icon-database'><use xlink:href='#icon-database'></use></svg></label><div class='xr-var-attrs'><dl class='xr-attrs'></dl></div><div class='xr-var-data'><pre>array([2094.94936576, 2094.86482325, 2094.89184025, 2095.00242925,\n",
       "       2095.19078175, 2095.44882465, 2095.75307806, 2096.09271162,\n",
       "       2096.43855616, 2096.7421886 , 2097.01622001, 2097.22645555,\n",
       "       2097.39768482, 2097.52123032, 2097.61627324, 2097.67968971,\n",
       "       2097.72380289, 2097.77057087, 2097.81731761, 2097.89962102,\n",
       "       2098.0413938 , 2098.25830966, 2098.6112701 , 2099.11102287,\n",
       "       2099.78573543, 2100.64156068, 2101.70644302, 2102.99282089,\n",
       "       2104.501243  , 2106.2127085 , 2108.07709553, 2110.13758029,\n",
       "       2112.38480244, 2114.81081946, 2117.39373882, 2120.10680074,\n",
       "       2122.95403601, 2125.90584136, 2128.98628448, 2132.22096463,\n",
       "       2135.57589313, 2139.07448715, 2142.6907701 , 2146.42620926,\n",
       "       2150.28221406, 2154.24829003, 2158.31453305, 2162.46352987,\n",
       "       2166.7127688 , 2171.03501628, 2175.4151884 , 2179.83669367,\n",
       "       2184.2694844 , 2188.68479403, 2193.05581724, 2197.36974127,\n",
       "       2201.61459345, 2205.78206372, 2209.8560493 , 2213.85523668,\n",
       "       2217.78402528, 2221.64875484, 2225.44821389, 2229.21623941,\n",
       "       2232.97914999, 2236.77283049, 2240.62879321, 2244.57328083,\n",
       "       2248.62964437, 2252.79077238, 2257.09540494, 2261.53802278,\n",
       "       2266.11967591, 2270.85393161, 2275.73583329, 2280.76729698,\n",
       "       2286.14308412, 2291.6368584 , 2297.21958639, 2302.90006875,\n",
       "       2308.63833195, 2314.41774029, 2320.21820857, 2326.03929923,\n",
       "       2331.87616409, 2337.70802981, 2343.52070125, 2349.29584474,\n",
       "       2355.02076773, 2360.68759227, 2366.2517392 , 2371.71903917,\n",
       "       2377.07783146, 2382.31548582, 2387.3938753 , 2392.30945757,\n",
       "       2397.05113022, 2401.63421681, 2406.0548753 , 2410.3426119 ,\n",
       "       2414.50419664, 2418.54155181, 2422.50189558, 2426.38584686,\n",
       "       2430.19550691, 2433.92713732, 2437.37602892, 2440.75033344,\n",
       "       2444.04671892, 2447.25160329, 2450.3679115 , 2453.39388112,\n",
       "       2456.32222093, 2459.14059869])</pre></div></li><li class='xr-var-item'><div class='xr-var-name'><span>bin_min</span></div><div class='xr-var-dims'>(bin_mid, time)</div><div class='xr-var-dtype'>float64</div><div class='xr-var-preview xr-preview'>3.0 3.0 3.0 ... 6.54e+03 6.54e+03</div><input id='attrs-cdec7c27-6469-4f36-94be-1de57733e541' class='xr-var-attrs-in' type='checkbox' disabled><label for='attrs-cdec7c27-6469-4f36-94be-1de57733e541' title='Show/Hide attributes'><svg class='icon xr-icon-file-text2'><use xlink:href='#icon-file-text2'></use></svg></label><input id='data-47225a06-e457-4e3a-80dd-53f76d296c75' class='xr-var-data-in' type='checkbox'><label for='data-47225a06-e457-4e3a-80dd-53f76d296c75' title='Show/Hide data repr'><svg class='icon xr-icon-database'><use xlink:href='#icon-database'></use></svg></label><div class='xr-var-attrs'><dl class='xr-attrs'></dl></div><div class='xr-var-data'><pre>array([[3.0000e+00, 3.0000e+00, 3.0000e+00, ..., 3.0000e+00, 3.0000e+00,\n",
       "        3.0000e+00],\n",
       "       [4.8000e+00, 4.8000e+00, 4.8000e+00, ..., 4.8000e+00, 4.8000e+00,\n",
       "        4.8000e+00],\n",
       "       [7.6000e+00, 7.6000e+00, 7.6000e+00, ..., 7.6000e+00, 7.6000e+00,\n",
       "        7.6000e+00],\n",
       "       ...,\n",
       "       [6.3345e+03, 6.3345e+03, 6.3345e+03, ..., 6.3345e+03, 6.3345e+03,\n",
       "        6.3345e+03],\n",
       "       [6.4375e+03, 6.4375e+03, 6.4375e+03, ..., 6.4375e+03, 6.4375e+03,\n",
       "        6.4375e+03],\n",
       "       [6.5405e+03, 6.5405e+03, 6.5405e+03, ..., 6.5405e+03, 6.5405e+03,\n",
       "        6.5405e+03]])</pre></div></li><li class='xr-var-item'><div class='xr-var-name'><span>bin_max</span></div><div class='xr-var-dims'>(bin_mid, time)</div><div class='xr-var-dtype'>float64</div><div class='xr-var-preview xr-preview'>4.8 4.8 4.8 ... 6.644e+03 6.644e+03</div><input id='attrs-efb83b25-eff0-4f60-b67a-25cfcaed0da4' class='xr-var-attrs-in' type='checkbox' disabled><label for='attrs-efb83b25-eff0-4f60-b67a-25cfcaed0da4' title='Show/Hide attributes'><svg class='icon xr-icon-file-text2'><use xlink:href='#icon-file-text2'></use></svg></label><input id='data-e451bb83-cc61-4511-a92e-b32348c5fe39' class='xr-var-data-in' type='checkbox'><label for='data-e451bb83-cc61-4511-a92e-b32348c5fe39' title='Show/Hide data repr'><svg class='icon xr-icon-database'><use xlink:href='#icon-database'></use></svg></label><div class='xr-var-attrs'><dl class='xr-attrs'></dl></div><div class='xr-var-data'><pre>array([[4.8000e+00, 4.8000e+00, 4.8000e+00, ..., 4.8000e+00, 4.8000e+00,\n",
       "        4.8000e+00],\n",
       "       [7.6000e+00, 7.6000e+00, 7.6000e+00, ..., 7.6000e+00, 7.6000e+00,\n",
       "        7.6000e+00],\n",
       "       [1.0100e+01, 1.0100e+01, 1.0100e+01, ..., 1.0100e+01, 1.0100e+01,\n",
       "        1.0100e+01],\n",
       "       ...,\n",
       "       [6.4375e+03, 6.4375e+03, 6.4375e+03, ..., 6.4375e+03, 6.4375e+03,\n",
       "        6.4375e+03],\n",
       "       [6.5405e+03, 6.5405e+03, 6.5405e+03, ..., 6.5405e+03, 6.5405e+03,\n",
       "        6.5405e+03],\n",
       "       [6.6435e+03, 6.6435e+03, 6.6435e+03, ..., 6.6435e+03, 6.6435e+03,\n",
       "        6.6435e+03]])</pre></div></li><li class='xr-var-item'><div class='xr-var-name'><span>bin_width</span></div><div class='xr-var-dims'>(bin_mid, time)</div><div class='xr-var-dtype'>float64</div><div class='xr-var-preview xr-preview'>1.8 1.8 1.8 ... 103.0 103.0 103.0</div><input id='attrs-f55b0092-c432-4536-92b9-1256b0fcf7ba' class='xr-var-attrs-in' type='checkbox' disabled><label for='attrs-f55b0092-c432-4536-92b9-1256b0fcf7ba' title='Show/Hide attributes'><svg class='icon xr-icon-file-text2'><use xlink:href='#icon-file-text2'></use></svg></label><input id='data-d514e9fc-6a63-496e-9738-f0e1d5eaca7b' class='xr-var-data-in' type='checkbox'><label for='data-d514e9fc-6a63-496e-9738-f0e1d5eaca7b' title='Show/Hide data repr'><svg class='icon xr-icon-database'><use xlink:href='#icon-database'></use></svg></label><div class='xr-var-attrs'><dl class='xr-attrs'></dl></div><div class='xr-var-data'><pre>array([[  1.8,   1.8,   1.8, ...,   1.8,   1.8,   1.8],\n",
       "       [  2.8,   2.8,   2.8, ...,   2.8,   2.8,   2.8],\n",
       "       [  2.5,   2.5,   2.5, ...,   2.5,   2.5,   2.5],\n",
       "       ...,\n",
       "       [103. , 103. , 103. , ..., 103. , 103. , 103. ],\n",
       "       [103. , 103. , 103. , ..., 103. , 103. , 103. ],\n",
       "       [103. , 103. , 103. , ..., 103. , 103. , 103. ]])</pre></div></li><li class='xr-var-item'><div class='xr-var-name'><span>dNdD</span></div><div class='xr-var-dims'>(time, bin_mid)</div><div class='xr-var-dtype'>float64</div><div class='xr-var-preview xr-preview'>9.188e+11 1.894e+12 ... 0.0 0.0</div><input id='attrs-7d59d115-e382-4f3c-b0ff-fc156e9dfaf3' class='xr-var-attrs-in' type='checkbox' disabled><label for='attrs-7d59d115-e382-4f3c-b0ff-fc156e9dfaf3' title='Show/Hide attributes'><svg class='icon xr-icon-file-text2'><use xlink:href='#icon-file-text2'></use></svg></label><input id='data-1b5de3b8-ac34-4611-9468-34e134e1560c' class='xr-var-data-in' type='checkbox'><label for='data-1b5de3b8-ac34-4611-9468-34e134e1560c' title='Show/Hide data repr'><svg class='icon xr-icon-database'><use xlink:href='#icon-database'></use></svg></label><div class='xr-var-attrs'><dl class='xr-attrs'></dl></div><div class='xr-var-data'><pre>array([[9.18800664e+11, 1.89362599e+12, 3.62868894e+12, ...,\n",
       "        0.00000000e+00, 0.00000000e+00, 0.00000000e+00],\n",
       "       [9.18800664e+11, 1.89441193e+12, 3.62956921e+12, ...,\n",
       "        0.00000000e+00, 0.00000000e+00, 0.00000000e+00],\n",
       "       [9.17538930e+11, 1.89600502e+12, 3.62956921e+12, ...,\n",
       "        0.00000000e+00, 0.00000000e+00, 0.00000000e+00],\n",
       "       ...,\n",
       "       [3.98968032e+11, 2.66835732e+12, 1.21399291e+13, ...,\n",
       "        0.00000000e+00, 0.00000000e+00, 0.00000000e+00],\n",
       "       [4.11072990e+11, 2.63399679e+12, 1.21479367e+13, ...,\n",
       "        0.00000000e+00, 0.00000000e+00, 0.00000000e+00],\n",
       "       [4.25112705e+11, 2.62045112e+12, 1.22740372e+13, ...,\n",
       "        0.00000000e+00, 0.00000000e+00, 0.00000000e+00]])</pre></div></li><li class='xr-var-item'><div class='xr-var-name'><span>Ze_lin</span></div><div class='xr-var-dims'>(time, height)</div><div class='xr-var-dtype'>float64</div><div class='xr-var-preview xr-preview'>0.0 0.0 0.0 0.0 ... 0.0 0.0 0.0 0.0</div><input id='attrs-4e99321a-50aa-4210-8c60-0b4b3ff57555' class='xr-var-attrs-in' type='checkbox' disabled><label for='attrs-4e99321a-50aa-4210-8c60-0b4b3ff57555' title='Show/Hide attributes'><svg class='icon xr-icon-file-text2'><use xlink:href='#icon-file-text2'></use></svg></label><input id='data-2f5d5269-fde6-4818-8d59-f4f4437094f1' class='xr-var-data-in' type='checkbox'><label for='data-2f5d5269-fde6-4818-8d59-f4f4437094f1' title='Show/Hide data repr'><svg class='icon xr-icon-database'><use xlink:href='#icon-database'></use></svg></label><div class='xr-var-attrs'><dl class='xr-attrs'></dl></div><div class='xr-var-data'><pre>array([[0., 0., 0., ..., 0., 0., 0.],\n",
       "       [0., 0., 0., ..., 0., 0., 0.],\n",
       "       [0., 0., 0., ..., 0., 0., 0.],\n",
       "       ...,\n",
       "       [0., 0., 0., ..., 0., 0., 0.],\n",
       "       [0., 0., 0., ..., 0., 0., 0.],\n",
       "       [0., 0., 0., ..., 0., 0., 0.]])</pre></div></li><li class='xr-var-item'><div class='xr-var-name'><span>Ze_mirac</span></div><div class='xr-var-dims'>(time)</div><div class='xr-var-dtype'>float64</div><div class='xr-var-preview xr-preview'>1.15 1.328 1.539 ... -4.304 -4.543</div><input id='attrs-5be9c2d1-de00-4e1b-a7f6-cfe210e3f327' class='xr-var-attrs-in' type='checkbox' disabled><label for='attrs-5be9c2d1-de00-4e1b-a7f6-cfe210e3f327' title='Show/Hide attributes'><svg class='icon xr-icon-file-text2'><use xlink:href='#icon-file-text2'></use></svg></label><input id='data-27be286f-4125-4dff-9151-dffdb5983173' class='xr-var-data-in' type='checkbox'><label for='data-27be286f-4125-4dff-9151-dffdb5983173' title='Show/Hide data repr'><svg class='icon xr-icon-database'><use xlink:href='#icon-database'></use></svg></label><div class='xr-var-attrs'><dl class='xr-attrs'></dl></div><div class='xr-var-data'><pre>array([ 1.14969035,  1.32838304,  1.53919285,  1.75110225,  2.05840405,\n",
       "        2.23298903,  2.4275007 ,  2.55512841,  2.62823171,  2.71589995,\n",
       "        2.70395416,  2.70337799,  2.72960511,  2.7547542 ,  2.77602894,\n",
       "        2.79598424,  2.72711368,  2.68946719,  2.62885346,  2.56983706,\n",
       "        2.4816161 ,  2.32311893,  2.24869518,  2.0464093 ,  1.85094482,\n",
       "        1.82636491,  1.72678579,  1.53236051,  1.37604851,  1.21759737,\n",
       "        1.01784973,  0.85189472,  0.65441631,  0.49335821,  0.24191356,\n",
       "       -0.03408393, -0.30754225, -0.56997454, -0.71311487, -0.94628376,\n",
       "       -0.85945841, -0.95153571, -0.95132924, -0.97769601, -0.96906559,\n",
       "       -1.08137065, -1.19289801, -1.23534205, -1.27325468, -1.30556571,\n",
       "       -1.41637677, -1.44250321, -1.47564794, -1.50763163, -1.56117385,\n",
       "       -1.61294286, -1.53821096, -1.62350036, -1.65838182, -1.71172618,\n",
       "       -1.83692358, -1.98612119, -2.2196371 , -2.40626971, -2.46832876,\n",
       "       -2.45481859, -2.45879009, -2.2189394 , -2.12188175, -1.87553383,\n",
       "       -1.70497428, -1.85574936, -1.97880274, -2.11619145, -2.29205889,\n",
       "       -2.48614974, -2.68752018, -2.90539769, -2.96797578, -3.00810971,\n",
       "       -3.11958859, -3.09313287, -3.13052479, -3.23519562, -3.26181668,\n",
       "       -3.2381664 , -3.1530708 , -3.08000695, -3.06843157, -2.97250108,\n",
       "       -2.85804092, -2.68447903, -2.58363228, -2.46273762, -2.46238098,\n",
       "       -2.73211614, -3.06779901, -3.32621123, -3.7528988 , -4.23105224,\n",
       "       -4.45880489, -4.24414111, -4.05420407, -3.99058816, -3.91592701,\n",
       "       -3.7997417 , -3.80046202, -3.65999286, -3.68885319, -3.71896335,\n",
       "       -3.82804642, -4.07642367, -4.30364004, -4.5431583 ])</pre></div></li><li class='xr-var-item'><div class='xr-var-name'><span>Ze_att</span></div><div class='xr-var-dims'>(time)</div><div class='xr-var-dtype'>float64</div><div class='xr-var-preview xr-preview'>0.5065 0.5065 ... 0.4056 0.4056</div><input id='attrs-599a93be-5fc5-4bed-bd69-cc80e31cb7a7' class='xr-var-attrs-in' type='checkbox' disabled><label for='attrs-599a93be-5fc5-4bed-bd69-cc80e31cb7a7' title='Show/Hide attributes'><svg class='icon xr-icon-file-text2'><use xlink:href='#icon-file-text2'></use></svg></label><input id='data-79eb8ebd-38e3-45e2-9b2f-ac6440ce5021' class='xr-var-data-in' type='checkbox'><label for='data-79eb8ebd-38e3-45e2-9b2f-ac6440ce5021' title='Show/Hide data repr'><svg class='icon xr-icon-database'><use xlink:href='#icon-database'></use></svg></label><div class='xr-var-attrs'><dl class='xr-attrs'></dl></div><div class='xr-var-data'><pre>array([0.50651934, 0.50651934, 0.50651934, 0.50651934, 0.50445129,\n",
       "       0.50445129, 0.50445129, 0.50445129, 0.50445129, 0.50445129,\n",
       "       0.50445129, 0.50445129, 0.50445129, 0.50445129, 0.50445129,\n",
       "       0.50445129, 0.50445129, 0.50257652, 0.50257652, 0.50257652,\n",
       "       0.50257652, 0.50257652, 0.5007662 , 0.5007662 , 0.5007662 ,\n",
       "       0.49861773, 0.49861773, 0.49861773, 0.49627417, 0.49627417,\n",
       "       0.49426504, 0.49257672, 0.49257672, 0.49115369, 0.48995399,\n",
       "       0.48995399, 0.48875287, 0.48875287, 0.48755005, 0.48634548,\n",
       "       0.48634548, 0.4851393 , 0.4851393 , 0.48393182, 0.48272343,\n",
       "       0.48272343, 0.48151462, 0.48030588, 0.48030588, 0.47909767,\n",
       "       0.47909767, 0.47788799, 0.47640367, 0.47640367, 0.47464538,\n",
       "       0.47464538, 0.47299327, 0.47299327, 0.47145542, 0.47145542,\n",
       "       0.46917097, 0.46917097, 0.46609706, 0.46609706, 0.46377638,\n",
       "       0.46377638, 0.46233939, 0.46088306, 0.46088306, 0.45929919,\n",
       "       0.45929919, 0.45690345, 0.45690345, 0.45358978, 0.4499655 ,\n",
       "       0.4499655 , 0.4461512 , 0.4461512 , 0.4423546 , 0.4423546 ,\n",
       "       0.43862546, 0.43862546, 0.43862546, 0.43459432, 0.43459432,\n",
       "       0.43015542, 0.43015542, 0.43015542, 0.42493748, 0.42493748,\n",
       "       0.42493748, 0.42493748, 0.41881662, 0.41881662, 0.41881662,\n",
       "       0.41881662, 0.41881662, 0.41881662, 0.41881662, 0.41881662,\n",
       "       0.41229455, 0.41229455, 0.41229455, 0.41229455, 0.41229455,\n",
       "       0.41229455, 0.40556839, 0.40556839, 0.40556839, 0.40556839,\n",
       "       0.40556839, 0.40556839, 0.40556839, 0.40556839])</pre></div></li><li class='xr-var-item'><div class='xr-var-name'><span>M</span></div><div class='xr-var-dims'>(time)</div><div class='xr-var-dtype'>float64</div><div class='xr-var-preview xr-preview'>0.04351 0.04429 ... 0.02278 0.02244</div><input id='attrs-5f643bb9-2fe4-413b-af80-9da5c0c6edf8' class='xr-var-attrs-in' type='checkbox' disabled><label for='attrs-5f643bb9-2fe4-413b-af80-9da5c0c6edf8' title='Show/Hide attributes'><svg class='icon xr-icon-file-text2'><use xlink:href='#icon-file-text2'></use></svg></label><input id='data-85390850-cccf-43bd-ba7e-04a4f0afc661' class='xr-var-data-in' type='checkbox'><label for='data-85390850-cccf-43bd-ba7e-04a4f0afc661' title='Show/Hide data repr'><svg class='icon xr-icon-database'><use xlink:href='#icon-database'></use></svg></label><div class='xr-var-attrs'><dl class='xr-attrs'></dl></div><div class='xr-var-data'><pre>array([0.04350727, 0.04429023, 0.04550432, 0.04687299, 0.04901377,\n",
       "       0.05104595, 0.05417934, 0.05562986, 0.05597619, 0.05600316,\n",
       "       0.05505847, 0.05714227, 0.06164718, 0.06487473, 0.06357106,\n",
       "       0.0611166 , 0.0565543 , 0.05503067, 0.05206716, 0.04953213,\n",
       "       0.04669982, 0.04354329, 0.04137839, 0.0397254 , 0.03729612,\n",
       "       0.03606975, 0.03424556, 0.03252158, 0.03080325, 0.02952388,\n",
       "       0.02816394, 0.02697878, 0.02592451, 0.0252742 , 0.02441001,\n",
       "       0.02353773, 0.02218248, 0.02098892, 0.02015557, 0.0188995 ,\n",
       "       0.01870502, 0.01776877, 0.01724975, 0.01702344, 0.0171673 ,\n",
       "       0.01709316, 0.01699391, 0.01686301, 0.01720829, 0.01757238,\n",
       "       0.01778871, 0.01826312, 0.01870895, 0.01886821, 0.01930156,\n",
       "       0.01968752, 0.02060789, 0.02131821, 0.02200083, 0.02227513,\n",
       "       0.02246363, 0.02268475, 0.02229355, 0.0216668 , 0.02135877,\n",
       "       0.02156597, 0.02250761, 0.02407514, 0.02515802, 0.02776306,\n",
       "       0.03016154, 0.03218044, 0.033504  , 0.0321453 , 0.03043469,\n",
       "       0.02801274, 0.02747695, 0.02648201, 0.02576454, 0.02522871,\n",
       "       0.02456524, 0.02441   , 0.02391543, 0.02312468, 0.02272732,\n",
       "       0.02252996, 0.02239506, 0.02212749, 0.02183797, 0.02237052,\n",
       "       0.02271696, 0.02317001, 0.02355546, 0.02415233, 0.0244107 ,\n",
       "       0.02354005, 0.02246371, 0.0219288 , 0.02120936, 0.01999833,\n",
       "       0.01953397, 0.02010222, 0.02087544, 0.02154562, 0.02246822,\n",
       "       0.0240786 , 0.02432354, 0.02524274, 0.02498004, 0.02476071,\n",
       "       0.02423   , 0.02334071, 0.0227826 , 0.02243906])</pre></div></li><li class='xr-var-item'><div class='xr-var-name'><span>Ze_mirac_corr</span></div><div class='xr-var-dims'>(time)</div><div class='xr-var-dtype'>float64</div><div class='xr-var-preview xr-preview'>1.656 1.835 2.046 ... -3.898 -4.138</div><input id='attrs-5f044d43-8bee-4b61-b087-39d76f1d60c1' class='xr-var-attrs-in' type='checkbox' disabled><label for='attrs-5f044d43-8bee-4b61-b087-39d76f1d60c1' title='Show/Hide attributes'><svg class='icon xr-icon-file-text2'><use xlink:href='#icon-file-text2'></use></svg></label><input id='data-56432e19-efb2-42a0-b426-8c2155594bc5' class='xr-var-data-in' type='checkbox'><label for='data-56432e19-efb2-42a0-b426-8c2155594bc5' title='Show/Hide data repr'><svg class='icon xr-icon-database'><use xlink:href='#icon-database'></use></svg></label><div class='xr-var-attrs'><dl class='xr-attrs'></dl></div><div class='xr-var-data'><pre>array([ 1.65620969,  1.83490238,  2.04571219,  2.25762159,  2.56285534,\n",
       "        2.73744032,  2.931952  ,  3.05957971,  3.132683  ,  3.22035125,\n",
       "        3.20840545,  3.20782928,  3.2340564 ,  3.25920549,  3.28048024,\n",
       "        3.30043553,  3.23156497,  3.19204371,  3.13142998,  3.07241357,\n",
       "        2.98419262,  2.82569544,  2.74946138,  2.5471755 ,  2.35171102,\n",
       "        2.32498264,  2.22540353,  2.03097824,  1.87232268,  1.71387153,\n",
       "        1.51211476,  1.34447145,  1.14699303,  0.9845119 ,  0.73186756,\n",
       "        0.45587007,  0.18121062, -0.08122167, -0.22556482, -0.45993828,\n",
       "       -0.37311293, -0.46639641, -0.46618994, -0.49376419, -0.48634216,\n",
       "       -0.59864721, -0.71138339, -0.75503617, -0.79294879, -0.82646804,\n",
       "       -0.9372791 , -0.96461521, -0.99924427, -1.03122796, -1.08652848,\n",
       "       -1.13829748, -1.06521768, -1.15050709, -1.1869264 , -1.24027076,\n",
       "       -1.36775261, -1.51695022, -1.75354004, -1.94017264, -2.00455237,\n",
       "       -1.99104221, -1.9964507 , -1.75805635, -1.66099869, -1.41623465,\n",
       "       -1.24567509, -1.39884591, -1.52189929, -1.66260167, -1.84209339,\n",
       "       -2.03618424, -2.24136898, -2.45924648, -2.52562119, -2.56575511,\n",
       "       -2.68096312, -2.65450741, -2.69189932, -2.80060129, -2.82722236,\n",
       "       -2.80801098, -2.72291538, -2.64985153, -2.64349409, -2.5475636 ,\n",
       "       -2.43310344, -2.25954155, -2.16481566, -2.043921  , -2.04356436,\n",
       "       -2.31329951, -2.64898239, -2.90739461, -3.33408218, -3.81223562,\n",
       "       -4.04651034, -3.83184655, -3.64190951, -3.57829361, -3.50363245,\n",
       "       -3.38744715, -3.39489363, -3.25442447, -3.2832848 , -3.31339496,\n",
       "       -3.42247803, -3.67085528, -3.89807165, -4.13758991])</pre></div></li><li class='xr-var-item'><div class='xr-var-name'><span>psd_ice</span></div><div class='xr-var-dims'>(time, bin_mid)</div><div class='xr-var-dtype'>int64</div><div class='xr-var-preview xr-preview'>0 0 0 0 0 0 0 0 ... 0 0 0 0 0 0 0 0</div><input id='attrs-1b75666a-908a-4094-8965-92988e597fa6' class='xr-var-attrs-in' type='checkbox' disabled><label for='attrs-1b75666a-908a-4094-8965-92988e597fa6' title='Show/Hide attributes'><svg class='icon xr-icon-file-text2'><use xlink:href='#icon-file-text2'></use></svg></label><input id='data-4681fd39-eecc-4843-b84e-918f6369fc6d' class='xr-var-data-in' type='checkbox'><label for='data-4681fd39-eecc-4843-b84e-918f6369fc6d' title='Show/Hide data repr'><svg class='icon xr-icon-database'><use xlink:href='#icon-database'></use></svg></label><div class='xr-var-attrs'><dl class='xr-attrs'></dl></div><div class='xr-var-data'><pre>array([[0, 0, 0, ..., 0, 0, 0],\n",
       "       [0, 0, 0, ..., 0, 0, 0],\n",
       "       [0, 0, 0, ..., 0, 0, 0],\n",
       "       ...,\n",
       "       [0, 0, 0, ..., 0, 0, 0],\n",
       "       [0, 0, 0, ..., 0, 0, 0],\n",
       "       [0, 0, 0, ..., 0, 0, 0]])</pre></div></li><li class='xr-var-item'><div class='xr-var-name'><span>psd_liquid</span></div><div class='xr-var-dims'>(time, bin_mid)</div><div class='xr-var-dtype'>int64</div><div class='xr-var-preview xr-preview'>918800663723 1893625985597 ... 0 0</div><input id='attrs-6197cba3-76fd-4403-b9af-93b5c5c1445c' class='xr-var-attrs-in' type='checkbox' disabled><label for='attrs-6197cba3-76fd-4403-b9af-93b5c5c1445c' title='Show/Hide attributes'><svg class='icon xr-icon-file-text2'><use xlink:href='#icon-file-text2'></use></svg></label><input id='data-ef239599-d59c-4daa-93ee-c79255cecf5d' class='xr-var-data-in' type='checkbox'><label for='data-ef239599-d59c-4daa-93ee-c79255cecf5d' title='Show/Hide data repr'><svg class='icon xr-icon-database'><use xlink:href='#icon-database'></use></svg></label><div class='xr-var-attrs'><dl class='xr-attrs'></dl></div><div class='xr-var-data'><pre>array([[  918800663723,  1893625985597,  3628688943033, ...,\n",
       "                     0,              0,              0],\n",
       "       [  918800663723,  1894411934841,  3629569206187, ...,\n",
       "                     0,              0,              0],\n",
       "       [  917538929938,  1896005016044,  3629569206187, ...,\n",
       "                     0,              0,              0],\n",
       "       ...,\n",
       "       [  398968032312,  2668357324167, 12139929119069, ...,\n",
       "                     0,              0,              0],\n",
       "       [  411072990212,  2633996786244, 12147936745370, ...,\n",
       "                     0,              0,              0],\n",
       "       [  425112704773,  2620451116794, 12274037153477, ...,\n",
       "                     0,              0,              0]])</pre></div></li></ul></div></li><li class='xr-section-item'><input id='section-e2d2411e-b762-4feb-b8d7-c276e9e3edde' class='xr-section-summary-in' type='checkbox' disabled ><label for='section-e2d2411e-b762-4feb-b8d7-c276e9e3edde' class='xr-section-summary'  title='Expand/collapse section'>Attributes: <span>(0)</span></label><div class='xr-section-inline-details'></div><div class='xr-section-details'><dl class='xr-attrs'></dl></div></li></ul></div></div>"
      ],
      "text/plain": [
       "<xarray.Dataset>\n",
       "Dimensions:        (time: 114, height: 1400, bin_mid: 95)\n",
       "Coordinates:\n",
       "  * time           (time) datetime64[ns] 2022-04-01T11:25:00 ... 2022-04-01T1...\n",
       "  * height         (height) float32 -1e+03 -995.0 -990.0 ... 5.99e+03 5.995e+03\n",
       "  * bin_mid        (bin_mid) float64 3.9 6.2 8.85 ... 6.489e+03 6.592e+03\n",
       "Data variables: (12/19)\n",
       "    Ze             (time, height) float64 -inf -inf -inf -inf ... -inf -inf -inf\n",
       "    lon5           (time) float64 7.035 7.032 7.03 7.028 ... 6.75 6.748 6.745\n",
       "    lat5           (time) float64 79.46 79.46 79.46 79.46 ... 79.49 79.49 79.49\n",
       "    alt5           (time) float64 2.809e+03 2.809e+03 ... 2.807e+03 2.807e+03\n",
       "    lon6           (time) float64 7.128 7.125 7.123 7.12 ... 6.856 6.853 6.851\n",
       "    lat6           (time) float64 79.45 79.45 79.45 79.45 ... 79.48 79.48 79.48\n",
       "    ...             ...\n",
       "    Ze_mirac       (time) float64 1.15 1.328 1.539 ... -4.076 -4.304 -4.543\n",
       "    Ze_att         (time) float64 0.5065 0.5065 0.5065 ... 0.4056 0.4056 0.4056\n",
       "    M              (time) float64 0.04351 0.04429 0.0455 ... 0.02278 0.02244\n",
       "    Ze_mirac_corr  (time) float64 1.656 1.835 2.046 ... -3.671 -3.898 -4.138\n",
       "    psd_ice        (time, bin_mid) int64 0 0 0 0 0 0 0 0 0 ... 0 0 0 0 0 0 0 0 0\n",
       "    psd_liquid     (time, bin_mid) int64 918800663723 1893625985597 ... 0 0"
      ]
     },
     "execution_count": 3,
     "metadata": {},
     "output_type": "execute_result"
    }
   ],
   "source": [
    "data"
   ]
  },
  {
   "cell_type": "markdown",
   "metadata": {},
   "source": [
    "Extract the particle size distributions (psd_ice and psd_liquid for ice particles and supercooled droplets) from the netCDF file. "
   ]
  },
  {
   "cell_type": "code",
   "execution_count": 4,
   "metadata": {},
   "outputs": [],
   "source": [
    "psd_i = np.ma.masked_invalid(data.psd_ice.values).filled(0)\n",
    "psd_l = np.ma.masked_invalid(data.psd_liquid.values).filled(0)\n",
    "nBins = np.shape(psd_i)[1]"
   ]
  },
  {
   "cell_type": "markdown",
   "metadata": {},
   "source": [
    "Also, we save the average and bounding diameter of each size bin"
   ]
  },
  {
   "cell_type": "code",
   "execution_count": 5,
   "metadata": {},
   "outputs": [],
   "source": [
    "Dmean = data.bin_mid.values*1e-6 # bc values in microns\n",
    "Dbound = np.append(data.bin_min.values[:,0], data.bin_max.values[-1, 0])\n",
    "Dbound = Dbound*1e-6"
   ]
  },
  {
   "cell_type": "code",
   "execution_count": 6,
   "metadata": {},
   "outputs": [
    {
     "data": {
      "text/plain": [
       "(array([3.0000e-06, 4.8000e-06, 7.6000e-06, 1.0100e-05, 1.1700e-05,\n",
       "        1.3600e-05, 1.6000e-05, 1.7300e-05, 1.8700e-05, 2.0700e-05,\n",
       "        2.2900e-05, 2.4600e-05, 2.6200e-05, 2.7600e-05, 2.9700e-05,\n",
       "        3.1600e-05, 3.3500e-05, 3.5500e-05, 5.2500e-05, 6.7500e-05,\n",
       "        8.2500e-05, 9.7500e-05, 1.1250e-04, 1.2750e-04, 1.4250e-04,\n",
       "        1.5750e-04, 1.7250e-04, 1.8750e-04, 2.0250e-04, 2.1750e-04,\n",
       "        2.3250e-04, 2.4750e-04, 2.6250e-04, 2.7750e-04, 2.9350e-04,\n",
       "        4.6350e-04, 5.6650e-04, 6.6950e-04, 7.7250e-04, 8.7550e-04,\n",
       "        9.7850e-04, 1.0815e-03, 1.1845e-03, 1.2875e-03, 1.3905e-03,\n",
       "        1.4935e-03, 1.5965e-03, 1.6995e-03, 1.8025e-03, 1.9055e-03,\n",
       "        2.0085e-03, 2.1115e-03, 2.2145e-03, 2.3175e-03, 2.4205e-03,\n",
       "        2.5235e-03, 2.6265e-03, 2.7295e-03, 2.8325e-03, 2.9355e-03,\n",
       "        3.0385e-03, 3.1415e-03, 3.2445e-03, 3.3475e-03, 3.4505e-03,\n",
       "        3.5535e-03, 3.6565e-03, 3.7595e-03, 3.8625e-03, 3.9655e-03,\n",
       "        4.0685e-03, 4.1715e-03, 4.2745e-03, 4.3775e-03, 4.4805e-03,\n",
       "        4.5835e-03, 4.6865e-03, 4.7895e-03, 4.8925e-03, 4.9955e-03,\n",
       "        5.0985e-03, 5.2015e-03, 5.3045e-03, 5.4075e-03, 5.5105e-03,\n",
       "        5.6135e-03, 5.7165e-03, 5.8195e-03, 5.9225e-03, 6.0255e-03,\n",
       "        6.1285e-03, 6.2315e-03, 6.3345e-03, 6.4375e-03, 6.5405e-03,\n",
       "        6.6435e-03]),\n",
       " array([3.900e-06, 6.200e-06, 8.850e-06, 1.090e-05, 1.265e-05, 1.480e-05,\n",
       "        1.665e-05, 1.800e-05, 1.970e-05, 2.180e-05, 2.375e-05, 2.540e-05,\n",
       "        2.690e-05, 2.865e-05, 3.065e-05, 3.255e-05, 3.415e-05, 4.400e-05,\n",
       "        6.000e-05, 7.500e-05, 9.000e-05, 1.050e-04, 1.200e-04, 1.350e-04,\n",
       "        1.500e-04, 1.650e-04, 1.800e-04, 1.950e-04, 2.100e-04, 2.250e-04,\n",
       "        2.400e-04, 2.550e-04, 2.700e-04, 2.850e-04, 3.785e-04, 5.150e-04,\n",
       "        6.180e-04, 7.210e-04, 8.240e-04, 9.270e-04, 1.030e-03, 1.133e-03,\n",
       "        1.236e-03, 1.339e-03, 1.442e-03, 1.545e-03, 1.648e-03, 1.751e-03,\n",
       "        1.854e-03, 1.957e-03, 2.060e-03, 2.163e-03, 2.266e-03, 2.369e-03,\n",
       "        2.472e-03, 2.575e-03, 2.678e-03, 2.781e-03, 2.884e-03, 2.987e-03,\n",
       "        3.090e-03, 3.193e-03, 3.296e-03, 3.399e-03, 3.502e-03, 3.605e-03,\n",
       "        3.708e-03, 3.811e-03, 3.914e-03, 4.017e-03, 4.120e-03, 4.223e-03,\n",
       "        4.326e-03, 4.429e-03, 4.532e-03, 4.635e-03, 4.738e-03, 4.841e-03,\n",
       "        4.944e-03, 5.047e-03, 5.150e-03, 5.253e-03, 5.356e-03, 5.459e-03,\n",
       "        5.562e-03, 5.665e-03, 5.768e-03, 5.871e-03, 5.974e-03, 6.077e-03,\n",
       "        6.180e-03, 6.283e-03, 6.386e-03, 6.489e-03, 6.592e-03]))"
      ]
     },
     "execution_count": 6,
     "metadata": {},
     "output_type": "execute_result"
    }
   ],
   "source": [
    "Dbound, Dmean"
   ]
  },
  {
   "cell_type": "markdown",
   "metadata": {},
   "source": [
    "Next, we create an empty pyPamtra object"
   ]
  },
  {
   "cell_type": "code",
   "execution_count": 7,
   "metadata": {},
   "outputs": [],
   "source": [
    "pam = pyPamtra.pyPamtra()"
   ]
  },
  {
   "cell_type": "markdown",
   "metadata": {},
   "source": [
    "Even though we use the full-bin interface, we need to add a standard hydrometeor description to create the required data structures. For consistency, the same data fields are required as for the regular PAMTRA hydrometeor interface. However, many parameters are not relevant when using the full-bin interface. "
   ]
  },
  {
   "cell_type": "code",
   "execution_count": 8,
   "metadata": {},
   "outputs": [],
   "source": [
    "pam.df.addHydrometeor((\n",
    "        \"liquid\",  # name \n",
    "        -99.,  # aspect ratio (NOT RELEVANT)\n",
    "        1,  # liquid - ice flag\n",
    "        -99.,  # density (NOT RELEVANT)\n",
    "        -99.,  # mass size relation prefactor a (NOT RELEVANT)\n",
    "        -99.,  # mass size relation exponent b (NOT RELEVANT)\n",
    "        -99.,  # area size relation prefactor alpha (NOT RELEVANT)\n",
    "        -99.,  # area size relation exponent beta (NOT RELEVANT)\n",
    "        0,  # moment provided later (NOT RELEVANT)\n",
    "        nBins,  # number of bins\n",
    "        \"fullBin\",  # distribution name (NOT RELEVANT)\n",
    "        -99.,  # distribution parameter 1 (NOT RELEVANT)\n",
    "        -99.,  # distribution parameter 2 (NOT RELEVANT)\n",
    "        -99.,  # distribution parameter 3 (NOT RELEVANT)\n",
    "        -99.,  # distribution parameter 4 (NOT RELEVANT)\n",
    "        -99.,  # minimum diameter (NOT RELEVANT)\n",
    "        -99.,  # maximum diameter (NOT RELEVANT)\n",
    "        'mie-sphere',  # scattering model\n",
    "        'khvorostyanov01_drops',  # fall velocity relation\n",
    "        0.0  # canting angle\n",
    "    ))"
   ]
  },
  {
   "cell_type": "code",
   "execution_count": 9,
   "metadata": {},
   "outputs": [],
   "source": [
    "pam.df.addHydrometeor((\n",
    "    \"ice\",  # name ## \"liquid\" -> \"ice\"\n",
    "    -99.,  # aspect ratio (NOT RELEVANT)\n",
    "    -1,  # liquid - ice flag\n",
    "    -99.,  # density (NOT RELEVANT)\n",
    "    -99.,  # mass size relation prefactor a (NOT RELEVANT)\n",
    "    -99.,  # mass size relation exponent b (NOT RELEVANT)\n",
    "    -99.,  # area size relation prefactor alpha (NOT RELEVANT)\n",
    "    -99.,  # area size relation exponent beta (NOT RELEVANT)\n",
    "    0,  # moment provided later (NOT RELEVANT)\n",
    "    nBins,  # number of bins\n",
    "    \"fullBin\",  # distribution name (NOT RELEVANT)\n",
    "    -99.,  # distribution parameter 1 (NOT RELEVANT)\n",
    "    -99.,  # distribution parameter 2 (NOT RELEVANT)\n",
    "    -99.,  # distribution parameter 3 (NOT RELEVANT)\n",
    "    -99.,  # distribution parameter 4 (NOT RELEVANT)\n",
    "    -99.,  # minimum diameter (NOT RELEVANT)\n",
    "    -99.,  # maximum diameter (NOT RELEVANT)\n",
    "    'ss-rayleigh-gans',  # scattering model ## SSRGA\n",
    "    'heymsfield10_particles',  # fall velocity relation ## more realistic for ice particles\n",
    "    0.0  # canting angle\n",
    "))"
   ]
  },
  {
   "cell_type": "markdown",
   "metadata": {},
   "source": [
    "Next, we add an an atmospheric profile to PAMTRA. For this example, we use an US standard profile for simplicity. The `pyPamtra.importer.createUsStandardProfile` helper routine requires only height levels as an input. The height dimension of level properties is one longer than for layer properties such as hydrometeor properties. Therefore, we need to add one more height level to the ACME-V data set. Here, we simply add a height value to the vector. For comparison with e.g. a ground-based radar, the height levels should be derived from the height layers through interpolation. "
   ]
  },
  {
   "cell_type": "code",
   "execution_count": 10,
   "metadata": {},
   "outputs": [
    {
     "name": "stderr",
     "output_type": "stream",
     "text": [
      "/home/nmaherndl/lib/python/pyPamtra/core.py:821: Warning: timestamp set to now\n",
      "  warnings.warn(\"timestamp set to now\", Warning)\n",
      "/home/nmaherndl/lib/python/pyPamtra/core.py:838: Warning: lat set to 50.938056\n",
      "  warnings.warn(\"%s set to %s\"%(environment,preset,), Warning)\n",
      "/home/nmaherndl/lib/python/pyPamtra/core.py:838: Warning: lon set to 6.956944\n",
      "  warnings.warn(\"%s set to %s\"%(environment,preset,), Warning)\n",
      "/home/nmaherndl/lib/python/pyPamtra/core.py:838: Warning: wind10u set to 0\n",
      "  warnings.warn(\"%s set to %s\"%(environment,preset,), Warning)\n",
      "/home/nmaherndl/lib/python/pyPamtra/core.py:838: Warning: wind10v set to 0\n",
      "  warnings.warn(\"%s set to %s\"%(environment,preset,), Warning)\n",
      "/home/nmaherndl/lib/python/pyPamtra/core.py:838: Warning: groundtemp set to nan\n",
      "  warnings.warn(\"%s set to %s\"%(environment,preset,), Warning)\n",
      "/home/nmaherndl/lib/python/pyPamtra/core.py:838: Warning: sfc_salinity set to 33.0\n",
      "  warnings.warn(\"%s set to %s\"%(environment,preset,), Warning)\n",
      "/home/nmaherndl/lib/python/pyPamtra/core.py:838: Warning: sfc_slf set to 1.0\n",
      "  warnings.warn(\"%s set to %s\"%(environment,preset,), Warning)\n",
      "/home/nmaherndl/lib/python/pyPamtra/core.py:838: Warning: sfc_sif set to 0.0\n",
      "  warnings.warn(\"%s set to %s\"%(environment,preset,), Warning)\n",
      "/home/nmaherndl/lib/python/pyPamtra/core.py:848: Warning: sfc_type set to -9999\n",
      "  warnings.warn(\"%s set to %s\"%(environment,preset,), Warning)\n",
      "/home/nmaherndl/lib/python/pyPamtra/core.py:848: Warning: sfc_model set to -9999\n",
      "  warnings.warn(\"%s set to %s\"%(environment,preset,), Warning)\n",
      "/home/nmaherndl/lib/python/pyPamtra/core.py:859: Warning: sfc_refl set to S\n",
      "  warnings.warn(\"%s set to %s\"%(environment,preset,), Warning)\n",
      "/home/nmaherndl/lib/python/pyPamtra/core.py:871: Warning: obs_height set to [833000.0, 0.0]\n",
      "  warnings.warn(\"%s set to %s\"%(environment,preset,), Warning)\n",
      "/home/nmaherndl/lib/python/pyPamtra/core.py:881: Warning: hydro_q set to 0\n",
      "  warnings.warn(qValue + \" set to 0\", Warning)\n",
      "/home/nmaherndl/lib/python/pyPamtra/core.py:881: Warning: hydro_reff set to 0\n",
      "  warnings.warn(qValue + \" set to 0\", Warning)\n",
      "/home/nmaherndl/lib/python/pyPamtra/core.py:881: Warning: hydro_n set to 0\n",
      "  warnings.warn(qValue + \" set to 0\", Warning)\n",
      "/home/nmaherndl/lib/python/pyPamtra/core.py:892: Warning: airturb set to nan\n",
      "  warnings.warn(qValue + \" set to nan\", Warning)\n",
      "/home/nmaherndl/lib/python/pyPamtra/core.py:892: Warning: wind_w set to nan\n",
      "  warnings.warn(qValue + \" set to nan\", Warning)\n",
      "/home/nmaherndl/lib/python/pyPamtra/core.py:892: Warning: wind_uv set to nan\n",
      "  warnings.warn(qValue + \" set to nan\", Warning)\n",
      "/home/nmaherndl/lib/python/pyPamtra/core.py:892: Warning: turb_edr set to nan\n",
      "  warnings.warn(qValue + \" set to nan\", Warning)\n"
     ]
    }
   ],
   "source": [
    "pam = pyPamtra.importer.createUsStandardProfile(\n",
    "    pam, \n",
    "    hgt_lev=list(data['alt6'].values) + [465]\n",
    ")"
   ]
  },
  {
   "cell_type": "markdown",
   "metadata": {},
   "source": [
    "Note that parameters not provided will be guessed, please make sure to look at the warning messages carefully. Now, the `pam.p` dictionary is created"
   ]
  },
  {
   "cell_type": "code",
   "execution_count": 11,
   "metadata": {},
   "outputs": [
    {
     "data": {
      "text/plain": [
       "['airturb',\n",
       " 'groundtemp',\n",
       " 'hgt',\n",
       " 'hgt_lev',\n",
       " 'hydro_n',\n",
       " 'hydro_q',\n",
       " 'hydro_reff',\n",
       " 'lat',\n",
       " 'lon',\n",
       " 'max_nlyrs',\n",
       " 'model_i',\n",
       " 'model_j',\n",
       " 'ngridx',\n",
       " 'ngridy',\n",
       " 'nlyrs',\n",
       " 'noutlevels',\n",
       " 'obs_height',\n",
       " 'press_lev',\n",
       " 'radar_prop',\n",
       " 'relhum_lev',\n",
       " 'sfc_model',\n",
       " 'sfc_refl',\n",
       " 'sfc_salinity',\n",
       " 'sfc_sif',\n",
       " 'sfc_slf',\n",
       " 'sfc_type',\n",
       " 'temp_lev',\n",
       " 'turb_edr',\n",
       " 'unixtime',\n",
       " 'wind10u',\n",
       " 'wind10v',\n",
       " 'wind_uv',\n",
       " 'wind_w']"
      ]
     },
     "execution_count": 11,
     "metadata": {},
     "output_type": "execute_result"
    }
   ],
   "source": [
    "sorted(pam.p.keys())"
   ]
  },
  {
   "cell_type": "markdown",
   "metadata": {},
   "source": [
    "The temperature and pressure fields have been populated with US standard atmosphere values in K and Pa, respectively. Note that all input quantities in PAMTRA except frequency (GHz) are in SI units. Refer to `pam.units` for details."
   ]
  },
  {
   "cell_type": "code",
   "execution_count": 12,
   "metadata": {},
   "outputs": [
    {
     "data": {
      "text/plain": [
       "(array([[[286.4567262 , 286.45270723, 286.44906611, 286.44599177,\n",
       "          286.44327811, 286.44113123, 286.43936219, 286.43735271,\n",
       "          286.43482797, 286.43220018, 286.4295037 , 286.42670416,\n",
       "          286.42411072, 286.42160316, 286.41900972, 286.41626171,\n",
       "          286.41315302, 286.40980388, 286.40576774, 286.40097589,\n",
       "          286.39496461, 286.38751063, 286.37842501, 286.36777647,\n",
       "          286.35592566, 286.34330198, 286.32975084, 286.31491157,\n",
       "          286.29888723, 286.2816778 , 286.26306001, 286.24365217,\n",
       "          286.22360886, 286.20329074, 286.18295545, 286.16263733,\n",
       "          286.14228486, 286.12191522, 286.10175168, 286.08175988,\n",
       "          286.06214595, 286.04285833, 286.02346767, 286.00349305,\n",
       "          285.98303753, 285.96232439, 285.94150819, 285.9208981 ,\n",
       "          285.90057998, 285.88034774, 285.86047617, 285.84115421,\n",
       "          285.82251925, 285.80441672, 285.78662334, 285.76893301,\n",
       "          285.7515003 , 285.73444545, 285.71756235, 285.70136625,\n",
       "          285.68577128, 285.67034806, 285.65475309, 285.63867721,\n",
       "          285.62167388, 285.60364005, 285.58478182, 285.56564878,\n",
       "          285.54642987, 285.52698768, 285.50747679, 285.48834375,\n",
       "          285.46979467, 285.45172648, 285.43374418, 285.41589927,\n",
       "          285.39832917, 285.38141171, 285.36545607, 285.35044505,\n",
       "          285.33584623, 285.32147069, 285.30735278, 285.29333791,\n",
       "          285.279907  , 285.26748942, 285.25608517, 285.24584882,\n",
       "          285.23653993, 285.22779781, 285.21931332, 285.21130974,\n",
       "          285.2042336 , 285.19815363, 285.19312133, 285.18908519,\n",
       "          285.18580475, 285.18307391, 285.1806007 , 285.17804161,\n",
       "          285.17489857, 285.1708109 , 285.16574425, 285.16016235,\n",
       "          285.15449458, 285.1489642 , 285.1438632 , 285.13898548,\n",
       "          285.13482911, 285.1318063 , 285.12988269, 285.12876631,\n",
       "          285.12878349, 285.13027772, 285.12771863]]]),\n",
       " array([[[98234.41288769, 98227.1897167 , 98220.64296305, 98215.07459879,\n",
       "          98210.18265188, 98206.32948875, 98203.14670354, 98199.48076308,\n",
       "          98194.9511826 , 98190.18606395, 98185.35451144, 98180.33573627,\n",
       "          98175.63101202, 98171.10747099, 98166.4571017 , 98161.50476038,\n",
       "          98155.88204116, 98149.83052164, 98142.61942953, 98134.00114775,\n",
       "          98123.12411517, 98109.74675417, 98093.37383062, 98074.19256717,\n",
       "          98052.88542062, 98030.17712384, 98005.76570481, 97979.10761386,\n",
       "          97950.25720596, 97919.34734881, 97885.89488715, 97850.9869203 ,\n",
       "          97815.00393301, 97778.48343551, 97741.98105633, 97705.49679548,\n",
       "          97668.97025853, 97632.45580047, 97596.32182717, 97560.44754982,\n",
       "          97525.31612366, 97490.74636549, 97456.00750297, 97420.26005387,\n",
       "          97383.67312253, 97346.56075984, 97309.34572667, 97272.50513881,\n",
       "          97236.16582453, 97199.96541739, 97164.50786144, 97129.96830046,\n",
       "          97096.71514034, 97064.37393576, 97032.65479356, 97001.06247962,\n",
       "          96969.9653998 , 96939.54473734, 96909.43812579, 96880.54544181,\n",
       "          96852.80629098, 96825.31475723, 96797.53333032, 96768.91846061,\n",
       "          96738.63066584, 96706.55519664, 96672.99402505, 96638.96177709,\n",
       "          96604.76646423, 96570.16650885, 96535.51823795, 96501.54638439,\n",
       "          96468.54688078, 96436.45329326, 96404.55900729, 96372.91233838,\n",
       "          96341.70050919, 96311.69052869, 96283.36555213, 96256.78597391,\n",
       "          96230.93112856, 96205.43864965, 96180.37497103, 96155.55890948,\n",
       "          96131.82390779, 96109.82222557, 96089.61425722, 96071.49593532,\n",
       "          96054.99014407, 96039.50501829, 96024.49700832, 96010.38283557,\n",
       "          95997.82079905, 95987.10683137, 95978.18053812, 95971.03587985,\n",
       "          95965.2017802 , 95960.44270098, 95956.03994876, 95951.51640773,\n",
       "          95945.98428011, 95938.72487247, 95929.74422425, 95919.86973882,\n",
       "          95909.88050401, 95900.06641299, 95891.09180421, 95882.46748298,\n",
       "          95875.09936541, 95869.80881542, 95866.36029482, 95864.39747661,\n",
       "          95864.45787102, 95867.07294881, 95862.55544722]]]))"
      ]
     },
     "execution_count": 12,
     "metadata": {},
     "output_type": "execute_result"
    }
   ],
   "source": [
    "pam.p['temp_lev'], pam.p['press_lev']"
   ]
  },
  {
   "cell_type": "markdown",
   "metadata": {},
   "source": [
    "To model turbulence properly, we need to define the horizontal wind speed and the eddy dissipation rate (see Maahn et al. 2015, https://doi.org/10.1175/JTECH-D-14-00112.1 for details). For simplicity, we choose fixed values for this example"
   ]
  },
  {
   "cell_type": "code",
   "execution_count": 13,
   "metadata": {},
   "outputs": [],
   "source": [
    "pam.p['wind_uv'][:] = 10\n",
    "pam.p['turb_edr'][:] = 1e-4"
   ]
  },
  {
   "cell_type": "markdown",
   "metadata": {},
   "source": [
    "We set some non-default settings, see the documentation (https://pamtra.readthedocs.io/en/latest/settings.html) for details. Note the `pam.nmlSet[\"hydro_fullspec\"] = True` which tells the Python Fortran kernel to use the provided distributions instead of the parameters of the hydrometeor description."
   ]
  },
  {
   "cell_type": "code",
   "execution_count": 14,
   "metadata": {},
   "outputs": [],
   "source": [
    "pam.nmlSet[\"passive\"] = False\n",
    "pam.nmlSet[\"randomseed\"] = 0\n",
    "pam.nmlSet[\"radar_mode\"] = \"spectrum\"\n",
    "pam.nmlSet[\"radar_aliasing_nyquist_interv\"] = 3\n",
    "pam.nmlSet[\"hydro_adaptive_grid\"] = False\n",
    "pam.nmlSet[\"conserve_mass_rescale_dsd\"] = False\n",
    "pam.nmlSet[\"radar_use_hildebrand\"] = True\n",
    "pam.nmlSet[\"radar_noise_distance_factor\"] = -2\n",
    "pam.nmlSet[\"hydro_fullspec\"] = True"
   ]
  },
  {
   "cell_type": "markdown",
   "metadata": {},
   "source": [
    "For debugging, verbosity of the Fortran and Python code can be increased. Note that due to technical limitations (https://github.com/ipython/ipykernel/issues/110) the output of the Fortran kernel does not show up in Jupyter. For debugging the Fortran kernel, you can start `iPython` in a terminal and run this script with `%run fullbin-acmev-example.ipynb` to see the debugging output."
   ]
  },
  {
   "cell_type": "code",
   "execution_count": 15,
   "metadata": {},
   "outputs": [],
   "source": [
    "pam.set[\"verbose\"] = 0\n",
    "pam.set[\"pyVerbose\"] = 0"
   ]
  },
  {
   "cell_type": "markdown",
   "metadata": {},
   "source": [
    "Finally, we create the Python objects for the measured DSDs"
   ]
  },
  {
   "cell_type": "code",
   "execution_count": 16,
   "metadata": {},
   "outputs": [],
   "source": [
    "pam.df.addFullSpectra()"
   ]
  },
  {
   "cell_type": "markdown",
   "metadata": {},
   "source": [
    "which creates the `pam.df.dataFullSpec` dictionary containing empty arrays which need to be populated "
   ]
  },
  {
   "cell_type": "code",
   "execution_count": 17,
   "metadata": {},
   "outputs": [
    {
     "data": {
      "text/plain": [
       "['rho_ds',\n",
       " 'd_ds',\n",
       " 'd_bound_ds',\n",
       " 'n_ds',\n",
       " 'mass_ds',\n",
       " 'area_ds',\n",
       " 'as_ratio',\n",
       " 'canting',\n",
       " 'fallvelocity',\n",
       " 'rg_kappa_ds',\n",
       " 'rg_beta_ds',\n",
       " 'rg_gamma_ds',\n",
       " 'rg_zeta_ds']"
      ]
     },
     "execution_count": 17,
     "metadata": {},
     "output_type": "execute_result"
    }
   ],
   "source": [
    "list(pam.df.dataFullSpec.keys())"
   ]
  },
  {
   "cell_type": "markdown",
   "metadata": {},
   "source": [
    "We start with adding the in situ observations for `d_bound_ds` (size bin boundaries in m), `d_ds` (size bin center in m, used for scattering calculation), and `n_ds` (number concentration in 1/m$^3$). Note that the in situ data set contains a drop size distribution in 1/m$^4$ which is why we apply `np.diff(Dbound)`."
   ]
  },
  {
   "cell_type": "code",
   "execution_count": 18,
   "metadata": {},
   "outputs": [],
   "source": [
    "pam.df.dataFullSpec[\"d_bound_ds\"][:] = Dbound\n",
    "pam.df.dataFullSpec[\"d_ds\"][:] = Dmean\n",
    "pam.df.dataFullSpec[\"n_ds\"][0,0,:,0,:] = (psd_l) * np.diff(Dbound)  \n",
    "pam.df.dataFullSpec['n_ds'][0,0,:,1,:] = (psd_i) * np.diff(Dbound)"
   ]
  },
  {
   "cell_type": "markdown",
   "metadata": {},
   "source": [
    "Note that the dimension of these arrays is"
   ]
  },
  {
   "cell_type": "code",
   "execution_count": 19,
   "metadata": {},
   "outputs": [
    {
     "data": {
      "text/plain": [
       "(1, 1, 114, 2, 95)"
      ]
     },
     "execution_count": 19,
     "metadata": {},
     "output_type": "execute_result"
    }
   ],
   "source": [
    "pam.df.dataFullSpec[\"n_ds\"].shape"
   ]
  },
  {
   "cell_type": "markdown",
   "metadata": {},
   "source": [
    "which is for x-dimension, y-dimension, height, hydrometeor type (in case there are more than one), and size bin. Therefore, `np.newaxis` needs to be used for the measured DSDs to allow broadcasting to the required shape. "
   ]
  },
  {
   "cell_type": "markdown",
   "metadata": {},
   "source": [
    "It is crucial to define also the other hydrometeor properties `rho_ds` (particle density in kg/m$^3$), `area_ds` (cross section area in m$^2$), `mass_ds` (particle mass in kg), and `as_ratio` (aspect ratio, oblate for values < 1). However, for liquid cloud and drizzle drops, the trivial relations for spheres can be used. This give the opportunity to use arbitrarily complex relations for ice and snow particles. Note that it is the sole responsibility of the user to make sure all relations are consistent with each other, unless in PAMTRA's normal mode, the full-bin interface does not do any consistency checks. "
   ]
  },
  {
   "cell_type": "markdown",
   "metadata": {},
   "source": [
    "#### liquid droplets:\n",
    "assumed to be spherical; we use Mie scattering"
   ]
  },
  {
   "cell_type": "code",
   "execution_count": 20,
   "metadata": {},
   "outputs": [],
   "source": [
    "# liquid\n",
    "pam.df.dataFullSpec[\"rho_ds\"][0,0,:,0,:] = 1000.\n",
    "pam.df.dataFullSpec[\"area_ds\"][0,0,:,0,:] = (np.pi / 4. * pam.df.dataFullSpec[\"d_ds\"][0,0,:,0,:]**2)\n",
    "pam.df.dataFullSpec[\"mass_ds\"][0,0,:,0,:] = (np.pi / 6. * pam.df.dataFullSpec[\"rho_ds\"][0,0,:,0,:] * \n",
    "                                             pam.df.dataFullSpec[\"d_ds\"][0,0,:,0,:]**3)\n",
    "pam.df.dataFullSpec[\"as_ratio\"][0,0,:,0,:] = 1.0"
   ]
  },
  {
   "cell_type": "markdown",
   "metadata": {},
   "source": [
    "#### rimed ice particles:"
   ]
  },
  {
   "cell_type": "markdown",
   "metadata": {},
   "source": [
    "Now we add scattering and physical ice partile properties for our rimed ice particle population. We can provide the normalized rime mass M as a scalar or vector (different value for each time step). "
   ]
  },
  {
   "cell_type": "markdown",
   "metadata": {},
   "source": [
    "Normalized rime mass retrival values from Maherndl et al. (2023b, submitted):"
   ]
  },
  {
   "cell_type": "code",
   "execution_count": 21,
   "metadata": {},
   "outputs": [],
   "source": [
    "M = data.M.values"
   ]
  },
  {
   "cell_type": "markdown",
   "metadata": {},
   "source": [
    "Alternatively: choose fixed M:      "
   ]
  },
  {
   "cell_type": "code",
   "execution_count": 22,
   "metadata": {},
   "outputs": [],
   "source": [
    "#M = np.full(data.time.size, 0.01) # assume normalized rime mass "
   ]
  },
  {
   "cell_type": "markdown",
   "metadata": {},
   "source": [
    "Mass (area) can be calculated from power law relations with prefactor a_m (a_a) and exponent b_m (b_a). ssrga_parameter(M) gives the SSRGA parameter kappa, beta, gamma, zeta_1 and alpha_eff as output. alpha_eff is equivalent to the aspect ratio here. "
   ]
  },
  {
   "cell_type": "code",
   "execution_count": 23,
   "metadata": {},
   "outputs": [],
   "source": [
    "# rimed ice particles\n",
    "a_m = np.expand_dims(pyPamtra.descriptorFile.riming_dependent_mass_size(M, 'dendrite')[0], 1) # mass size prefactor\n",
    "b_m = np.expand_dims(pyPamtra.descriptorFile.riming_dependent_mass_size(M, 'dendrite')[1], 1) # mass size exponent\n",
    "a_a = np.expand_dims(pyPamtra.descriptorFile.riming_dependent_area_size(M, 'dendrite')[0], 1) # area size prefactor \n",
    "b_a = np.expand_dims(pyPamtra.descriptorFile.riming_dependent_area_size(M, 'dendrite')[1], 1) # area size exponent \n",
    "\n",
    "pam.df.dataFullSpec[\"area_ds\"][0,0,:,1,:] = (a_a * pam.df.dataFullSpec[\"d_ds\"][0,0,:,1,:]**b_a)\n",
    "pam.df.dataFullSpec[\"mass_ds\"][0,0,:,1,:] = (a_m * pam.df.dataFullSpec[\"d_ds\"][0,0,:,1,:]**b_m)\n",
    "\n",
    "pam.df.dataFullSpec[\"as_ratio\"][0,0,:,1,:]    = np.expand_dims(pyPamtra.descriptorFile.ssrga_parameter(M)[4], 1) # alpha_eff\n",
    "pam.df.dataFullSpec[\"rg_kappa_ds\"][0,0,:,1,:] = np.expand_dims(pyPamtra.descriptorFile.ssrga_parameter(M)[0], 1) \n",
    "pam.df.dataFullSpec[\"rg_beta_ds\"][0,0,:,1,:]  = np.expand_dims(pyPamtra.descriptorFile.ssrga_parameter(M)[1], 1) \n",
    "pam.df.dataFullSpec[\"rg_gamma_ds\"][0,0,:,1,:] = np.expand_dims(pyPamtra.descriptorFile.ssrga_parameter(M)[2], 1) \n",
    "pam.df.dataFullSpec[\"rg_zeta_ds\"][0,0,:,1,:]  = np.expand_dims(pyPamtra.descriptorFile.ssrga_parameter(M)[3], 1)"
   ]
  },
  {
   "cell_type": "markdown",
   "metadata": {},
   "source": [
    "Finally, we can run PAMTRA for the intended frequencies to estimate the radar observables. It is recommended to check whether `pam.fortError == 0` after running PAMTRA to catch errors in the Fortran part which are not displayed in Jupyter as discussed above. "
   ]
  },
  {
   "cell_type": "code",
   "execution_count": 24,
   "metadata": {},
   "outputs": [
    {
     "name": "stdout",
     "output_type": "stream",
     "text": [
      "0\n"
     ]
    }
   ],
   "source": [
    "frequencies = [94]\n",
    "pam.runPamtra(frequencies)\n",
    "print((pam.fortError))"
   ]
  },
  {
   "cell_type": "markdown",
   "metadata": {},
   "source": [
    "Now, we can analyze the results which are stored in the `pam.r` dictionary."
   ]
  },
  {
   "cell_type": "code",
   "execution_count": 25,
   "metadata": {},
   "outputs": [
    {
     "data": {
      "text/plain": [
       "['tb',\n",
       " 'Ze',\n",
       " 'emissivity',\n",
       " 'Att_hydro',\n",
       " 'Att_atmo',\n",
       " 'radar_hgt',\n",
       " 'radar_moments',\n",
       " 'radar_edges',\n",
       " 'radar_slopes',\n",
       " 'radar_quality',\n",
       " 'radar_snr',\n",
       " 'radar_spectra',\n",
       " 'radar_vel',\n",
       " 'psd_d',\n",
       " 'psd_deltad',\n",
       " 'psd_n',\n",
       " 'psd_mass',\n",
       " 'psd_area',\n",
       " 'psd_bscat',\n",
       " 'kextatmo',\n",
       " 'scatter_matrix',\n",
       " 'extinct_matrix',\n",
       " 'emis_vector',\n",
       " 'angles_deg',\n",
       " 'pamtraVersion',\n",
       " 'pamtraHash',\n",
       " 'nmlSettings']"
      ]
     },
     "execution_count": 25,
     "metadata": {},
     "output_type": "execute_result"
    }
   ],
   "source": [
    "list(pam.r.keys())"
   ]
  },
  {
   "cell_type": "markdown",
   "metadata": {},
   "source": [
    "For plotting, we extract the Doppler velocity bins `pam.r['radar_vel']`, the height layers `pam.p['hgt']`, the calculated radar Doppler spectrum `pam.r['radar_spectra']`, and radar reflectivity `pam.r['Ze']`."
   ]
  },
  {
   "cell_type": "code",
   "execution_count": 26,
   "metadata": {},
   "outputs": [],
   "source": [
    "pam_velocity = pam.r['radar_vel'].squeeze()\n",
    "pam_height = pam.p['hgt'].squeeze()\n",
    "pam_spectra = pam.r['radar_spectra'].squeeze()\n",
    "Ze = pam.r['Ze'].squeeze()"
   ]
  },
  {
   "cell_type": "markdown",
   "metadata": {},
   "source": [
    "For comparison, we compare this to the measured radar reflectivity (with the 94 GHz MiRAC cloud radar. Her we use the attenuation corrected vlaues. Because the M data was derived based on a closure of measured reflectivities and in situ PSD, we expect Ze and data_Ze to fit well."
   ]
  },
  {
   "cell_type": "code",
   "execution_count": 27,
   "metadata": {},
   "outputs": [
    {
     "name": "stderr",
     "output_type": "stream",
     "text": [
      "/tmp/ipykernel_97504/1908922726.py:3: RuntimeWarning: divide by zero encountered in log10\n",
      "  data_psd_i = np.log10(psd_i)\n"
     ]
    }
   ],
   "source": [
    "data_Ze = data['Ze_mirac_corr'].values\n",
    "data_height = data['alt6'].values\n",
    "data_psd_i = np.log10(psd_i)"
   ]
  },
  {
   "cell_type": "markdown",
   "metadata": {},
   "source": [
    "Create the plots:"
   ]
  },
  {
   "cell_type": "code",
   "execution_count": 28,
   "metadata": {},
   "outputs": [
    {
     "name": "stderr",
     "output_type": "stream",
     "text": [
      "/tmp/ipykernel_97504/2322719564.py:3: MatplotlibDeprecationWarning: shading='flat' when X and Y have the same dimensions as C is deprecated since 3.3.  Either specify the corners of the quadrilaterals with X and Y, or pass shading='auto', 'nearest' or 'gouraud', or set rcParams['pcolor.shading'].  This will become an error two minor releases later.\n",
      "  pm = ax1.pcolormesh(Dmean, data_height, data_psd_i, rasterized=True)\n",
      "/tmp/ipykernel_97504/2322719564.py:18: MatplotlibDeprecationWarning: shading='flat' when X and Y have the same dimensions as C is deprecated since 3.3.  Either specify the corners of the quadrilaterals with X and Y, or pass shading='auto', 'nearest' or 'gouraud', or set rcParams['pcolor.shading'].  This will become an error two minor releases later.\n",
      "  pm = ax2.pcolormesh(pam_velocity,\n"
     ]
    },
    {
     "data": {
      "text/plain": [
       "Text(0.5, 0, 'Radar reflectivity factor (black) $Z_e$ [dBz]\\nforward simulated by PAMTRA')"
      ]
     },
     "execution_count": 28,
     "metadata": {},
     "output_type": "execute_result"
    },
    {
     "data": {
      "image/png": "[encoded data removed]",
      "text/plain": [
       "<Figure size 720x576 with 6 Axes>"
      ]
     },
     "metadata": {
      "needs_background": "light"
     },
     "output_type": "display_data"
    }
   ],
   "source": [
    "fig, [ax1, ax2] = plt.subplots(ncols=2, figsize=(10, 8), sharey=True)\n",
    "\n",
    "pm = ax1.pcolormesh(Dmean, data_height, data_psd_i, rasterized=True)\n",
    "plt.colorbar(pm, label='Ice particle concentration [m$^{-4}$]', ax=ax1)\n",
    "#ax1.plot(data_deff, data_height, c='k', lw=3)\n",
    "\n",
    "ax1.set_xscale('log')\n",
    "ax1.set_title('%s UTC' % str(data.time[0].values).split('.')[0])\n",
    "ax1.set_xlabel('Ice particle size [m]')\n",
    "ax1.set_ylabel('Altitude [m]')\n",
    "ax1.set_xlim(50e-6,Dmean.max())\n",
    "\n",
    "ax1t = ax1.twiny()\n",
    "ax1t.plot(data_Ze, data_height, c='k', lw=3)\n",
    "ax1t.set_ylim(pam_height.min(), pam_height.max())\n",
    "ax1t.set_xlabel('Radar reflectivity factor (black) $Z_e$ [dBz]\\nmeasured by cloud radar MiRAC')\n",
    "\n",
    "pm = ax2.pcolormesh(pam_velocity,\n",
    "                    pam_height,\n",
    "                    pam_spectra,\n",
    "                    vmax=-5,\n",
    "                    rasterized=True)\n",
    "plt.colorbar(pm, label='Spectral reflectivity [dB]', ax=ax2)\n",
    "\n",
    "ax2.set_xlim(-0.5, 5)\n",
    "ax2.set_xlabel('Doppler velocity [m s$-1$]')\n",
    "\n",
    "ax2t = ax2.twiny()\n",
    "ax2t.plot(Ze, pam_height, c='w', lw=3)\n",
    "ax2t.set_ylim(pam_height.min(), pam_height.max())\n",
    "ax2t.set_xlabel('Radar reflectivity factor (black) $Z_e$ [dBz]\\nforward simulated by PAMTRA')"
   ]
  },
  {
   "cell_type": "code",
   "execution_count": 29,
   "metadata": {},
   "outputs": [
    {
     "data": {
      "text/plain": [
       "Text(0, 0.5, 'MiRAC (measured) radar reflectivity [dBZ]')"
      ]
     },
     "execution_count": 29,
     "metadata": {},
     "output_type": "execute_result"
    },
    {
     "data": {
      "image/png": "[encoded data removed]",
      "text/plain": [
       "<Figure size 576x576 with 1 Axes>"
      ]
     },
     "metadata": {
      "needs_background": "light"
     },
     "output_type": "display_data"
    }
   ],
   "source": [
    "fig, ax = plt.subplots(figsize=(8,8))\n",
    "plt.scatter(Ze, data_Ze)\n",
    "ax.set_xlim(-5,5)\n",
    "ax.set_ylim(-5,5)\n",
    "ax.set_aspect(1)\n",
    "ax.plot([-10,5], [-10,5], color='k', linestyle='-.')\n",
    "ax.set_xlabel('PAMTRA (simulated) radar reflectivity [dBZ]')\n",
    "ax.set_ylabel('MiRAC (measured) radar reflectivity [dBZ]')"
   ]
  },
  {
   "cell_type": "markdown",
   "metadata": {},
   "source": [
    "root mean square error:"
   ]
  },
  {
   "cell_type": "code",
   "execution_count": 30,
   "metadata": {},
   "outputs": [
    {
     "data": {
      "text/plain": [
       "0.15459286734178027"
      ]
     },
     "execution_count": 30,
     "metadata": {},
     "output_type": "execute_result"
    }
   ],
   "source": [
    "rmse = np.sqrt(sum((data_Ze-Ze)**2)/Ze.size)\n",
    "rmse"
   ]
  },
  {
   "cell_type": "markdown",
   "metadata": {},
   "source": [
    "The results are not 1:1 the same due to: retrieval uncertanties and slightly different PAMTRA settings (e.g. standard atmosphere here instead of closest radio sonde profile). "
   ]
  },
  {
   "cell_type": "code",
   "execution_count": null,
   "metadata": {},
   "outputs": [],
   "source": []
  }
 ],
 "metadata": {
  "kernelspec": {
   "display_name": "Python 3 (ipykernel)",
   "language": "python",
   "name": "python3"
  },
  "language_info": {
   "codemirror_mode": {
    "name": "ipython",
    "version": 3
   },
   "file_extension": ".py",
   "mimetype": "text/x-python",
   "name": "python",
   "nbconvert_exporter": "python",
   "pygments_lexer": "ipython3",
   "version": "3.8.10"
  },
  "toc": {
   "base_numbering": 1,
   "nav_menu": {
    "height": "30px",
    "width": "252px"
   },
   "number_sections": true,
   "sideBar": true,
   "skip_h1_title": false,
   "title_cell": "Table of Contents",
   "title_sidebar": "Contents",
   "toc_cell": false,
   "toc_position": {},
   "toc_section_display": "block",
   "toc_window_display": false
  }
 },
 "nbformat": 4,
 "nbformat_minor": 4
}
